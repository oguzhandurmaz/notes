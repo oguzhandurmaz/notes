{
  "nbformat": 4,
  "nbformat_minor": 0,
  "metadata": {
    "colab": {
      "name": "Linear Regression.ipynb",
      "version": "0.3.2",
      "provenance": [],
      "collapsed_sections": []
    },
    "kernelspec": {
      "name": "python3",
      "display_name": "Python 3"
    }
  },
  "cells": [
    {
      "cell_type": "markdown",
      "metadata": {
        "id": "zzVf35lPuCI9",
        "colab_type": "text"
      },
      "source": [
        "**To understand Linear Regression better,\n",
        "Firstly I will code Linear Regression with Formula then use ScikitLearn module and we will able to \n",
        "compare.**\n",
        "\n",
        "---\n",
        "\n",
        "**Lineer Regresyonu daha iyi anlamak adına\n",
        "İlk önce Lineer Regresyonu formülle hesaplayıp daha sonra SckitLearn kütüphanesiyle aynı işlemi yapacağız ve karşılaştırağız.**\n",
        "\n",
        "**Dataset= car_crashes in seaborn**"
      ]
    },
    {
      "cell_type": "markdown",
      "metadata": {
        "id": "AXG0aLREv-Ns",
        "colab_type": "text"
      },
      "source": [
        "**Firstly we load dataset from seaborn**"
      ]
    },
    {
      "cell_type": "code",
      "metadata": {
        "id": "tCjSfjhgt6CP",
        "colab_type": "code",
        "outputId": "c59b4d58-f9ab-462b-afd3-18356822bd09",
        "colab": {
          "base_uri": "https://localhost:8080/",
          "height": 204
        }
      },
      "source": [
        "import seaborn as sns\n",
        "data=sns.load_dataset(\"car_crashes\")\n",
        "df=data.copy()\n",
        "df.head()"
      ],
      "execution_count": 1,
      "outputs": [
        {
          "output_type": "execute_result",
          "data": {
            "text/html": [
              "<div>\n",
              "<style scoped>\n",
              "    .dataframe tbody tr th:only-of-type {\n",
              "        vertical-align: middle;\n",
              "    }\n",
              "\n",
              "    .dataframe tbody tr th {\n",
              "        vertical-align: top;\n",
              "    }\n",
              "\n",
              "    .dataframe thead th {\n",
              "        text-align: right;\n",
              "    }\n",
              "</style>\n",
              "<table border=\"1\" class=\"dataframe\">\n",
              "  <thead>\n",
              "    <tr style=\"text-align: right;\">\n",
              "      <th></th>\n",
              "      <th>total</th>\n",
              "      <th>speeding</th>\n",
              "      <th>alcohol</th>\n",
              "      <th>not_distracted</th>\n",
              "      <th>no_previous</th>\n",
              "      <th>ins_premium</th>\n",
              "      <th>ins_losses</th>\n",
              "      <th>abbrev</th>\n",
              "    </tr>\n",
              "  </thead>\n",
              "  <tbody>\n",
              "    <tr>\n",
              "      <th>0</th>\n",
              "      <td>18.8</td>\n",
              "      <td>7.332</td>\n",
              "      <td>5.640</td>\n",
              "      <td>18.048</td>\n",
              "      <td>15.040</td>\n",
              "      <td>784.55</td>\n",
              "      <td>145.08</td>\n",
              "      <td>AL</td>\n",
              "    </tr>\n",
              "    <tr>\n",
              "      <th>1</th>\n",
              "      <td>18.1</td>\n",
              "      <td>7.421</td>\n",
              "      <td>4.525</td>\n",
              "      <td>16.290</td>\n",
              "      <td>17.014</td>\n",
              "      <td>1053.48</td>\n",
              "      <td>133.93</td>\n",
              "      <td>AK</td>\n",
              "    </tr>\n",
              "    <tr>\n",
              "      <th>2</th>\n",
              "      <td>18.6</td>\n",
              "      <td>6.510</td>\n",
              "      <td>5.208</td>\n",
              "      <td>15.624</td>\n",
              "      <td>17.856</td>\n",
              "      <td>899.47</td>\n",
              "      <td>110.35</td>\n",
              "      <td>AZ</td>\n",
              "    </tr>\n",
              "    <tr>\n",
              "      <th>3</th>\n",
              "      <td>22.4</td>\n",
              "      <td>4.032</td>\n",
              "      <td>5.824</td>\n",
              "      <td>21.056</td>\n",
              "      <td>21.280</td>\n",
              "      <td>827.34</td>\n",
              "      <td>142.39</td>\n",
              "      <td>AR</td>\n",
              "    </tr>\n",
              "    <tr>\n",
              "      <th>4</th>\n",
              "      <td>12.0</td>\n",
              "      <td>4.200</td>\n",
              "      <td>3.360</td>\n",
              "      <td>10.920</td>\n",
              "      <td>10.680</td>\n",
              "      <td>878.41</td>\n",
              "      <td>165.63</td>\n",
              "      <td>CA</td>\n",
              "    </tr>\n",
              "  </tbody>\n",
              "</table>\n",
              "</div>"
            ],
            "text/plain": [
              "   total  speeding  alcohol  ...  ins_premium  ins_losses  abbrev\n",
              "0   18.8     7.332    5.640  ...       784.55      145.08      AL\n",
              "1   18.1     7.421    4.525  ...      1053.48      133.93      AK\n",
              "2   18.6     6.510    5.208  ...       899.47      110.35      AZ\n",
              "3   22.4     4.032    5.824  ...       827.34      142.39      AR\n",
              "4   12.0     4.200    3.360  ...       878.41      165.63      CA\n",
              "\n",
              "[5 rows x 8 columns]"
            ]
          },
          "metadata": {
            "tags": []
          },
          "execution_count": 1
        }
      ]
    },
    {
      "cell_type": "markdown",
      "metadata": {
        "id": "LT5sI0f1wiGH",
        "colab_type": "text"
      },
      "source": [
        "**And we try to understand dataset**"
      ]
    },
    {
      "cell_type": "code",
      "metadata": {
        "id": "1R7NfM-Hyka1",
        "colab_type": "code",
        "outputId": "4cb58c51-05e6-483b-a95f-afbe4ef7107b",
        "colab": {
          "base_uri": "https://localhost:8080/",
          "height": 238
        }
      },
      "source": [
        "df.info()"
      ],
      "execution_count": 2,
      "outputs": [
        {
          "output_type": "stream",
          "text": [
            "<class 'pandas.core.frame.DataFrame'>\n",
            "RangeIndex: 51 entries, 0 to 50\n",
            "Data columns (total 8 columns):\n",
            "total             51 non-null float64\n",
            "speeding          51 non-null float64\n",
            "alcohol           51 non-null float64\n",
            "not_distracted    51 non-null float64\n",
            "no_previous       51 non-null float64\n",
            "ins_premium       51 non-null float64\n",
            "ins_losses        51 non-null float64\n",
            "abbrev            51 non-null object\n",
            "dtypes: float64(7), object(1)\n",
            "memory usage: 3.3+ KB\n"
          ],
          "name": "stdout"
        }
      ]
    },
    {
      "cell_type": "code",
      "metadata": {
        "id": "JptNo5NVwQVq",
        "colab_type": "code",
        "outputId": "7b7f0c32-ff7c-472e-a197-6c0f8fd14f03",
        "colab": {
          "base_uri": "https://localhost:8080/",
          "height": 266
        }
      },
      "source": [
        "df.describe().T"
      ],
      "execution_count": 3,
      "outputs": [
        {
          "output_type": "execute_result",
          "data": {
            "text/html": [
              "<div>\n",
              "<style scoped>\n",
              "    .dataframe tbody tr th:only-of-type {\n",
              "        vertical-align: middle;\n",
              "    }\n",
              "\n",
              "    .dataframe tbody tr th {\n",
              "        vertical-align: top;\n",
              "    }\n",
              "\n",
              "    .dataframe thead th {\n",
              "        text-align: right;\n",
              "    }\n",
              "</style>\n",
              "<table border=\"1\" class=\"dataframe\">\n",
              "  <thead>\n",
              "    <tr style=\"text-align: right;\">\n",
              "      <th></th>\n",
              "      <th>count</th>\n",
              "      <th>mean</th>\n",
              "      <th>std</th>\n",
              "      <th>min</th>\n",
              "      <th>25%</th>\n",
              "      <th>50%</th>\n",
              "      <th>75%</th>\n",
              "      <th>max</th>\n",
              "    </tr>\n",
              "  </thead>\n",
              "  <tbody>\n",
              "    <tr>\n",
              "      <th>total</th>\n",
              "      <td>51.0</td>\n",
              "      <td>15.790196</td>\n",
              "      <td>4.122002</td>\n",
              "      <td>5.900</td>\n",
              "      <td>12.7500</td>\n",
              "      <td>15.600</td>\n",
              "      <td>18.500</td>\n",
              "      <td>23.900</td>\n",
              "    </tr>\n",
              "    <tr>\n",
              "      <th>speeding</th>\n",
              "      <td>51.0</td>\n",
              "      <td>4.998196</td>\n",
              "      <td>2.017747</td>\n",
              "      <td>1.792</td>\n",
              "      <td>3.7665</td>\n",
              "      <td>4.608</td>\n",
              "      <td>6.439</td>\n",
              "      <td>9.450</td>\n",
              "    </tr>\n",
              "    <tr>\n",
              "      <th>alcohol</th>\n",
              "      <td>51.0</td>\n",
              "      <td>4.886784</td>\n",
              "      <td>1.729133</td>\n",
              "      <td>1.593</td>\n",
              "      <td>3.8940</td>\n",
              "      <td>4.554</td>\n",
              "      <td>5.604</td>\n",
              "      <td>10.038</td>\n",
              "    </tr>\n",
              "    <tr>\n",
              "      <th>not_distracted</th>\n",
              "      <td>51.0</td>\n",
              "      <td>13.573176</td>\n",
              "      <td>4.508977</td>\n",
              "      <td>1.760</td>\n",
              "      <td>10.4780</td>\n",
              "      <td>13.857</td>\n",
              "      <td>16.140</td>\n",
              "      <td>23.661</td>\n",
              "    </tr>\n",
              "    <tr>\n",
              "      <th>no_previous</th>\n",
              "      <td>51.0</td>\n",
              "      <td>14.004882</td>\n",
              "      <td>3.764672</td>\n",
              "      <td>5.900</td>\n",
              "      <td>11.3480</td>\n",
              "      <td>13.775</td>\n",
              "      <td>16.755</td>\n",
              "      <td>21.280</td>\n",
              "    </tr>\n",
              "    <tr>\n",
              "      <th>ins_premium</th>\n",
              "      <td>51.0</td>\n",
              "      <td>886.957647</td>\n",
              "      <td>178.296285</td>\n",
              "      <td>641.960</td>\n",
              "      <td>768.4300</td>\n",
              "      <td>858.970</td>\n",
              "      <td>1007.945</td>\n",
              "      <td>1301.520</td>\n",
              "    </tr>\n",
              "    <tr>\n",
              "      <th>ins_losses</th>\n",
              "      <td>51.0</td>\n",
              "      <td>134.493137</td>\n",
              "      <td>24.835922</td>\n",
              "      <td>82.750</td>\n",
              "      <td>114.6450</td>\n",
              "      <td>136.050</td>\n",
              "      <td>151.870</td>\n",
              "      <td>194.780</td>\n",
              "    </tr>\n",
              "  </tbody>\n",
              "</table>\n",
              "</div>"
            ],
            "text/plain": [
              "                count        mean         std  ...      50%       75%       max\n",
              "total            51.0   15.790196    4.122002  ...   15.600    18.500    23.900\n",
              "speeding         51.0    4.998196    2.017747  ...    4.608     6.439     9.450\n",
              "alcohol          51.0    4.886784    1.729133  ...    4.554     5.604    10.038\n",
              "not_distracted   51.0   13.573176    4.508977  ...   13.857    16.140    23.661\n",
              "no_previous      51.0   14.004882    3.764672  ...   13.775    16.755    21.280\n",
              "ins_premium      51.0  886.957647  178.296285  ...  858.970  1007.945  1301.520\n",
              "ins_losses       51.0  134.493137   24.835922  ...  136.050   151.870   194.780\n",
              "\n",
              "[7 rows x 8 columns]"
            ]
          },
          "metadata": {
            "tags": []
          },
          "execution_count": 3
        }
      ]
    },
    {
      "cell_type": "markdown",
      "metadata": {
        "id": "SY9zMNyVxTcC",
        "colab_type": "text"
      },
      "source": [
        "Looking for missing values"
      ]
    },
    {
      "cell_type": "code",
      "metadata": {
        "id": "9l5_FULKwy-2",
        "colab_type": "code",
        "outputId": "164ccc5f-8a60-4afe-d4d6-c3ce279e0930",
        "colab": {
          "base_uri": "https://localhost:8080/",
          "height": 34
        }
      },
      "source": [
        "df.isnull().values.any()"
      ],
      "execution_count": 4,
      "outputs": [
        {
          "output_type": "execute_result",
          "data": {
            "text/plain": [
              "False"
            ]
          },
          "metadata": {
            "tags": []
          },
          "execution_count": 4
        }
      ]
    },
    {
      "cell_type": "markdown",
      "metadata": {
        "id": "65Hucg8axd85",
        "colab_type": "text"
      },
      "source": [
        "**We look correlation between variables. And we see alcohol and total have high correlation relation**. \n",
        "\n",
        "**And decide to alcohol is independent variable and total is dependent variable for our example.**"
      ]
    },
    {
      "cell_type": "code",
      "metadata": {
        "id": "5_Sqhiaew9WV",
        "colab_type": "code",
        "outputId": "22c76bb2-1175-42ed-ae21-fd7d1129c768",
        "colab": {
          "base_uri": "https://localhost:8080/",
          "height": 266
        }
      },
      "source": [
        "df.corr()"
      ],
      "execution_count": 5,
      "outputs": [
        {
          "output_type": "execute_result",
          "data": {
            "text/html": [
              "<div>\n",
              "<style scoped>\n",
              "    .dataframe tbody tr th:only-of-type {\n",
              "        vertical-align: middle;\n",
              "    }\n",
              "\n",
              "    .dataframe tbody tr th {\n",
              "        vertical-align: top;\n",
              "    }\n",
              "\n",
              "    .dataframe thead th {\n",
              "        text-align: right;\n",
              "    }\n",
              "</style>\n",
              "<table border=\"1\" class=\"dataframe\">\n",
              "  <thead>\n",
              "    <tr style=\"text-align: right;\">\n",
              "      <th></th>\n",
              "      <th>total</th>\n",
              "      <th>speeding</th>\n",
              "      <th>alcohol</th>\n",
              "      <th>not_distracted</th>\n",
              "      <th>no_previous</th>\n",
              "      <th>ins_premium</th>\n",
              "      <th>ins_losses</th>\n",
              "    </tr>\n",
              "  </thead>\n",
              "  <tbody>\n",
              "    <tr>\n",
              "      <th>total</th>\n",
              "      <td>1.000000</td>\n",
              "      <td>0.611548</td>\n",
              "      <td>0.852613</td>\n",
              "      <td>0.827560</td>\n",
              "      <td>0.956179</td>\n",
              "      <td>-0.199702</td>\n",
              "      <td>-0.036011</td>\n",
              "    </tr>\n",
              "    <tr>\n",
              "      <th>speeding</th>\n",
              "      <td>0.611548</td>\n",
              "      <td>1.000000</td>\n",
              "      <td>0.669719</td>\n",
              "      <td>0.588010</td>\n",
              "      <td>0.571976</td>\n",
              "      <td>-0.077675</td>\n",
              "      <td>-0.065928</td>\n",
              "    </tr>\n",
              "    <tr>\n",
              "      <th>alcohol</th>\n",
              "      <td>0.852613</td>\n",
              "      <td>0.669719</td>\n",
              "      <td>1.000000</td>\n",
              "      <td>0.732816</td>\n",
              "      <td>0.783520</td>\n",
              "      <td>-0.170612</td>\n",
              "      <td>-0.112547</td>\n",
              "    </tr>\n",
              "    <tr>\n",
              "      <th>not_distracted</th>\n",
              "      <td>0.827560</td>\n",
              "      <td>0.588010</td>\n",
              "      <td>0.732816</td>\n",
              "      <td>1.000000</td>\n",
              "      <td>0.747307</td>\n",
              "      <td>-0.174856</td>\n",
              "      <td>-0.075970</td>\n",
              "    </tr>\n",
              "    <tr>\n",
              "      <th>no_previous</th>\n",
              "      <td>0.956179</td>\n",
              "      <td>0.571976</td>\n",
              "      <td>0.783520</td>\n",
              "      <td>0.747307</td>\n",
              "      <td>1.000000</td>\n",
              "      <td>-0.156895</td>\n",
              "      <td>-0.006359</td>\n",
              "    </tr>\n",
              "    <tr>\n",
              "      <th>ins_premium</th>\n",
              "      <td>-0.199702</td>\n",
              "      <td>-0.077675</td>\n",
              "      <td>-0.170612</td>\n",
              "      <td>-0.174856</td>\n",
              "      <td>-0.156895</td>\n",
              "      <td>1.000000</td>\n",
              "      <td>0.623116</td>\n",
              "    </tr>\n",
              "    <tr>\n",
              "      <th>ins_losses</th>\n",
              "      <td>-0.036011</td>\n",
              "      <td>-0.065928</td>\n",
              "      <td>-0.112547</td>\n",
              "      <td>-0.075970</td>\n",
              "      <td>-0.006359</td>\n",
              "      <td>0.623116</td>\n",
              "      <td>1.000000</td>\n",
              "    </tr>\n",
              "  </tbody>\n",
              "</table>\n",
              "</div>"
            ],
            "text/plain": [
              "                   total  speeding  ...  ins_premium  ins_losses\n",
              "total           1.000000  0.611548  ...    -0.199702   -0.036011\n",
              "speeding        0.611548  1.000000  ...    -0.077675   -0.065928\n",
              "alcohol         0.852613  0.669719  ...    -0.170612   -0.112547\n",
              "not_distracted  0.827560  0.588010  ...    -0.174856   -0.075970\n",
              "no_previous     0.956179  0.571976  ...    -0.156895   -0.006359\n",
              "ins_premium    -0.199702 -0.077675  ...     1.000000    0.623116\n",
              "ins_losses     -0.036011 -0.065928  ...     0.623116    1.000000\n",
              "\n",
              "[7 rows x 7 columns]"
            ]
          },
          "metadata": {
            "tags": []
          },
          "execution_count": 5
        }
      ]
    },
    {
      "cell_type": "code",
      "metadata": {
        "id": "Aav0KnlGxdG7",
        "colab_type": "code",
        "outputId": "994ae185-c8b5-4c00-81b2-1dc9619b618b",
        "colab": {
          "base_uri": "https://localhost:8080/",
          "height": 34
        }
      },
      "source": [
        "alcohol=df[\"alcohol\"] #independent variable\n",
        "total=df[\"total\"] #dependent variable\n",
        "len(alcohol)"
      ],
      "execution_count": 6,
      "outputs": [
        {
          "output_type": "execute_result",
          "data": {
            "text/plain": [
              "51"
            ]
          },
          "metadata": {
            "tags": []
          },
          "execution_count": 6
        }
      ]
    },
    {
      "cell_type": "code",
      "metadata": {
        "id": "OWeJ21LDyybu",
        "colab_type": "code",
        "outputId": "d8eaaaa6-ecb4-4e21-a55b-6ab8f55f5787",
        "colab": {
          "base_uri": "https://localhost:8080/",
          "height": 286
        }
      },
      "source": [
        "import matplotlib.pyplot as plt\n",
        "plt.scatter(alcohol,total)"
      ],
      "execution_count": 7,
      "outputs": [
        {
          "output_type": "execute_result",
          "data": {
            "text/plain": [
              "<matplotlib.collections.PathCollection at 0x7f5c762970f0>"
            ]
          },
          "metadata": {
            "tags": []
          },
          "execution_count": 7
        },
        {
          "output_type": "display_data",
          "data": {
            "image/png": "[encoded data removed]",
            "text/plain": [
              "<Figure size 432x288 with 1 Axes>"
            ]
          },
          "metadata": {
            "tags": []
          }
        }
      ]
    },
    {
      "cell_type": "markdown",
      "metadata": {
        "id": "rCA-XhfSzG-E",
        "colab_type": "text"
      },
      "source": [
        "**We will use this formula**\n",
        "\n",
        "![alt text](https://usercontent1.hubstatic.com/7429276_f520.jpg)\n",
        "\n",
        "\n",
        "**y = A + Bx**"
      ]
    },
    {
      "cell_type": "code",
      "metadata": {
        "id": "UrQStJD0zCb8",
        "colab_type": "code",
        "outputId": "5232174a-d729-498e-92c9-d2831b42e807",
        "colab": {
          "base_uri": "https://localhost:8080/",
          "height": 51
        }
      },
      "source": [
        "t_y=sum(total)\n",
        "t_x=sum(alcohol)\n",
        "xy=sum(total*alcohol)\n",
        "x2=sum(alcohol**2)\n",
        "A= ((t_y*x2) - (t_x*xy)) / ((51*x2) - (t_x**2))\n",
        "B=((51*xy) - (t_x*t_y)) / ((51*x2) - (t_x**2))\n",
        "print(\"A: \", A)\n",
        "print(\"B: \",B)"
      ],
      "execution_count": 8,
      "outputs": [
        {
          "output_type": "stream",
          "text": [
            "A:  5.857776154826259\n",
            "B:  2.032506303932418\n"
          ],
          "name": "stdout"
        }
      ]
    },
    {
      "cell_type": "markdown",
      "metadata": {
        "id": "xHHaqjy61C1j",
        "colab_type": "text"
      },
      "source": [
        "**Now we use ScikitLearn**"
      ]
    },
    {
      "cell_type": "code",
      "metadata": {
        "id": "QfG3WiVM1CpY",
        "colab_type": "code",
        "colab": {}
      },
      "source": [
        "from sklearn.linear_model import LinearRegression\n",
        "alcohol=df[[\"alcohol\"]]\n",
        "reg=LinearRegression()\n",
        "model=reg.fit(alcohol,total)"
      ],
      "execution_count": 0,
      "outputs": []
    },
    {
      "cell_type": "code",
      "metadata": {
        "id": "EmbJXp89z_sm",
        "colab_type": "code",
        "outputId": "6a781f46-4b22-4cd7-ab67-73dd201e5482",
        "colab": {
          "base_uri": "https://localhost:8080/",
          "height": 51
        }
      },
      "source": [
        "print(\"A: \",model.intercept_)\n",
        "print(\"B: \",model.coef_)"
      ],
      "execution_count": 10,
      "outputs": [
        {
          "output_type": "stream",
          "text": [
            "A:  5.857776154826299\n",
            "B:  [2.0325063]\n"
          ],
          "name": "stdout"
        }
      ]
    },
    {
      "cell_type": "markdown",
      "metadata": {
        "id": "C984bUp73T8J",
        "colab_type": "text"
      },
      "source": [
        "**Our formula**"
      ]
    },
    {
      "cell_type": "code",
      "metadata": {
        "id": "SMws5ZmF2xPz",
        "colab_type": "code",
        "outputId": "c69540b4-7ccf-4221-d9ad-a5f71d6b31a2",
        "colab": {
          "base_uri": "https://localhost:8080/",
          "height": 34
        }
      },
      "source": [
        "print(\"Total= \"+ str(\"%.2f \"%A) + \"+ alcohol\" + \"*\" + str(\"%.2f\"%B))"
      ],
      "execution_count": 11,
      "outputs": [
        {
          "output_type": "stream",
          "text": [
            "Total= 5.86 + alcohol*2.03\n"
          ],
          "name": "stdout"
        }
      ]
    },
    {
      "cell_type": "markdown",
      "metadata": {
        "id": "M1ZUpv-u2X7O",
        "colab_type": "text"
      },
      "source": [
        "**And we have achieved the same result.**\n",
        "\n",
        "**Let's visualize our results.**"
      ]
    },
    {
      "cell_type": "code",
      "metadata": {
        "id": "edDTgSZZ14_s",
        "colab_type": "code",
        "outputId": "de8af8ed-5335-4d45-ea54-47ba8fcb11e7",
        "colab": {
          "base_uri": "https://localhost:8080/",
          "height": 269
        }
      },
      "source": [
        "Total=A + B*alcohol\n",
        "plt.scatter(alcohol,total,color=\"r\")\n",
        "plt.plot(alcohol,Total)\n",
        "plt.show()"
      ],
      "execution_count": 12,
      "outputs": [
        {
          "output_type": "display_data",
          "data": {
            "image/png": "[encoded data removed]",
            "text/plain": [
              "<Figure size 432x288 with 1 Axes>"
            ]
          },
          "metadata": {
            "tags": []
          }
        }
      ]
    },
    {
      "cell_type": "markdown",
      "metadata": {
        "id": "Wwgmj9qt4WJZ",
        "colab_type": "text"
      },
      "source": [
        "**Predict**\n"
      ]
    },
    {
      "cell_type": "markdown",
      "metadata": {
        "id": "lHjyVeaFvXpd",
        "colab_type": "text"
      },
      "source": [
        "Let's compare the predicted values with the actual values"
      ]
    },
    {
      "cell_type": "code",
      "metadata": {
        "id": "sqtBAaMZshsP",
        "colab_type": "code",
        "colab": {
          "base_uri": "https://localhost:8080/",
          "height": 51
        },
        "outputId": "ee8841c2-dac7-4578-f45c-a55df7f6f7b0"
      },
      "source": [
        "import numpy as np\n",
        "from sklearn.metrics import mean_squared_error,r2_score\n",
        "total_pred=model.predict(alcohol)\n",
        "total_pred[0:10]"
      ],
      "execution_count": 30,
      "outputs": [
        {
          "output_type": "execute_result",
          "data": {
            "text/plain": [
              "array([17.32111171, 15.05486718, 16.44306899, 17.69509287, 12.68699734,\n",
              "       13.59756016, 13.76016066, 15.73575679,  9.0955587 , 16.40851638])"
            ]
          },
          "metadata": {
            "tags": []
          },
          "execution_count": 30
        }
      ]
    },
    {
      "cell_type": "code",
      "metadata": {
        "id": "wCCeEk4yvRuZ",
        "colab_type": "code",
        "colab": {
          "base_uri": "https://localhost:8080/",
          "height": 204
        },
        "outputId": "e670b11c-48d8-49a5-d847-b4c3b8b36c31"
      },
      "source": [
        "total[0:10]"
      ],
      "execution_count": 31,
      "outputs": [
        {
          "output_type": "execute_result",
          "data": {
            "text/plain": [
              "0    18.8\n",
              "1    18.1\n",
              "2    18.6\n",
              "3    22.4\n",
              "4    12.0\n",
              "5    13.6\n",
              "6    10.8\n",
              "7    16.2\n",
              "8     5.9\n",
              "9    17.9\n",
              "Name: total, dtype: float64"
            ]
          },
          "metadata": {
            "tags": []
          },
          "execution_count": 31
        }
      ]
    },
    {
      "cell_type": "markdown",
      "metadata": {
        "id": "cAd_mHlAvnOY",
        "colab_type": "text"
      },
      "source": [
        "Calculate RMSE and R Squared Score\n",
        "\n",
        "For information: [RMSE and R2](https://www.datatechnotes.com/2019/02/regression-model-accuracy-mae-mse-rmse.html)"
      ]
    },
    {
      "cell_type": "code",
      "metadata": {
        "id": "Lpu2jQF3vLqp",
        "colab_type": "code",
        "colab": {
          "base_uri": "https://localhost:8080/",
          "height": 51
        },
        "outputId": "674f14f8-5df2-4b39-83e2-332c4e17c5ed"
      },
      "source": [
        "rmse=np.sqrt(mean_squared_error(total,total_pred))\n",
        "print(\"RMSE: \",rmse)\n",
        "print(\"R Squared Score: \",r2_score(total,total_pred))"
      ],
      "execution_count": 36,
      "outputs": [
        {
          "output_type": "stream",
          "text": [
            "RMSE:  2.132700058579433\n",
            "R Squared Score:  0.7269492966665405\n"
          ],
          "name": "stdout"
        }
      ]
    },
    {
      "cell_type": "code",
      "metadata": {
        "id": "6eWdtrCc4Xfz",
        "colab_type": "code",
        "outputId": "5561b1a3-b193-4695-ad9b-e68592180ef3",
        "colab": {
          "base_uri": "https://localhost:8080/",
          "height": 34
        }
      },
      "source": [
        "model.predict([[2.5]])"
      ],
      "execution_count": 33,
      "outputs": [
        {
          "output_type": "execute_result",
          "data": {
            "text/plain": [
              "array([10.93904191])"
            ]
          },
          "metadata": {
            "tags": []
          },
          "execution_count": 33
        }
      ]
    }
  ]
}