{
  "nbformat": 4,
  "nbformat_minor": 0,
  "metadata": {
    "colab": {
      "name": "Neural Network Development.ipynb",
      "version": "0.3.2",
      "provenance": [],
      "collapsed_sections": []
    },
    "kernelspec": {
      "name": "python3",
      "display_name": "Python 3"
    }
  },
  "cells": [
    {
      "cell_type": "markdown",
      "metadata": {
        "id": "UTkWwqSD960W",
        "colab_type": "text"
      },
      "source": [
        "**Current situation:**\n",
        "\n",
        "* It's just working for W5,W6,W7,W8 for now.\n",
        "\n",
        "\n",
        "\n",
        "**Next steps:** \n",
        "\n",
        "* Code will change other weights values\n",
        "* Short and fast code as possible as it can\n",
        "\n",
        "![alt text](https://d1jnx9ba8s6j9r.cloudfront.net/blog/wp-content/uploads/2017/09/Backpropagation-Example-Backpropagation-Edureka.png)"
      ]
    },
    {
      "cell_type": "code",
      "metadata": {
        "id": "onOg254GBl_J",
        "colab_type": "code",
        "outputId": "72617fe9-7eed-4458-9574-ac4ade71e466",
        "colab": {
          "base_uri": "https://localhost:8080/",
          "height": 136
        }
      },
      "source": [
        "import numpy as np\n",
        "b1,b2=.35,.60\n",
        "hedef=np.array([[.01,.99]], dtype=np.float64)\n",
        "def sigmoid_fonk(x):\n",
        "  return (1/(1+np.exp(-x)))\n",
        "girdiler=np.array([[.05,.10]])\n",
        "agirliklar_1=np.array([[.15,.25],\n",
        "                       [.20,.30]], dtype=np.float64)\n",
        "agirliklar_2=np.array([[.40,.50],\n",
        "                       [.45,.55]], dtype=np.float64)\n",
        "#iterasyon sayısı belirlenecek for döngüsü yeri - iteration number for loop\n",
        "for level in range(0,100000):\n",
        "  h1h2_out=sigmoid_fonk(np.dot(girdiler,agirliklar_1)+b1) #İleri besleme hesaplaması - HIDDEN LAYER\n",
        "  o1o2_out=sigmoid_fonk(np.dot(h1h2_out,agirliklar_2)+b2) #İleri besleme hesaplaması ÇIKIŞ - OUT\n",
        "  hata_o1o2=((hedef-o1o2_out)**2)/2\n",
        "  #toplamhata=np.sum(hata_o1o2)\n",
        "  #o1 o2 için w5,w6,w7,w8 belirleme döngüsü yeri\n",
        "  for i in range(0,2):\n",
        "    hata1=(-1)*(hedef[0,i]-o1o2_out[0,i])  #out o1 e göre türev ---> hedef_o1 - out_o1\n",
        "    hata2=o1o2_out[0,i]*(1-o1o2_out[0,i]) #net o1 e gore türev sigmoid türevi---> out_o1*(1-out_o1) ---< sigmoid function derivative\n",
        "    for j in range(0,2):\n",
        "      hata3=h1h2_out[0,j] #w5 e göre türev --> out h1 , w6 için out h2\n",
        "      sonhata=hata1*hata2*hata3\n",
        "      agirliklar_2[j,i]=agirliklar_2[j,i]-0.5*sonhata # i--> w5,w6 dan w7,w8 e geçiş için o1 ve o2 ye göre\n",
        "print(\"\\tAgirliklar:\\n\",agirliklar_2)\n",
        "print(\"\\tHata:\\n\",hata_o1o2)\n",
        "print(\"\\tO1_O2:\\n \",o1o2_out)"
      ],
      "execution_count": 0,
      "outputs": [
        {
          "output_type": "stream",
          "text": [
            "\tAgirliklar:\n",
            " [[-4.36550232  3.31306866]\n",
            " [-4.34453525  3.38020676]]\n",
            "\tHata:\n",
            " [[7.15647886e-09 7.12046873e-09]]\n",
            "\tO1_O2:\n",
            "  [[0.01011964 0.98988066]]\n"
          ],
          "name": "stdout"
        }
      ]
    }
  ]
}
