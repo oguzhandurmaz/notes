{
  "nbformat": 4,
  "nbformat_minor": 0,
  "metadata": {
    "colab": {
      "name": "Numpy ile Şekil Çizme.ipynb",
      "version": "0.3.2",
      "provenance": []
    },
    "kernelspec": {
      "name": "python3",
      "display_name": "Python 3"
    }
  },
  "cells": [
    {
      "cell_type": "markdown",
      "metadata": {
        "id": "1kPF-1brU-po",
        "colab_type": "text"
      },
      "source": [
        "![alt text](https://files.slack.com/files-pri/TJ4HDSV9D-FJF0BMTEC/ekran_resmi_2019-05-06_10.04.24.jpg)\n",
        "Siyah renkler= 0 Beyaz renkler =1"
      ]
    },
    {
      "cell_type": "code",
      "metadata": {
        "id": "H-h9gSHzVJiG",
        "colab_type": "code",
        "outputId": "13778b16-5dc3-48db-8c36-31b94d291c75",
        "colab": {
          "base_uri": "https://localhost:8080/",
          "height": 167
        }
      },
      "source": [
        "import matplotlib.pyplot as plt\n",
        "import numpy as np\n",
        "siyahbeyaz=np.zeros((20,20))\n",
        "siyahbeyaz_cerceveli=np.ones((20,20))\n",
        "liste=[0,1,18,19] #baştan 0,1 satırlar ve sütunlar, sondan 18,19 satırlar ve sütunlar\n",
        "#Matrisin etrafını siyah yapmak için 2 yöntem;\n",
        "#1.Matris değerlerini aralık vererek Değiştirme\n",
        "siyahbeyaz_cerceveli[:20,:2]=0\n",
        "siyahbeyaz_cerceveli[:20,18:20]=0\n",
        "siyahbeyaz_cerceveli[:2,:20]=0\n",
        "siyahbeyaz_cerceveli[18:20,:20]=0\n",
        "#2.Ya da For döngüsüyle değerleri Değiştirme\n",
        "\"\"\"for i in range(0,20):\n",
        "  for j in range(0,4):\n",
        "    siyahbeyaz_cerceveli[liste[j],i]=0\n",
        "    siyahbeyaz_cerceveli[i,liste[j]]=0\"\"\"\n",
        "siyahbeyaz_cerceveli_kosegen=siyahbeyaz_cerceveli.copy()\n",
        "for i in range(0,20): #Köşegen için 1e1,2e2 şeklinde yapmamız lazım.\n",
        "  siyahbeyaz_cerceveli_kosegen[i,i]=0\n",
        "\n",
        "plt.figure()\n",
        "plt.subplot(1,3,1)\n",
        "plt.imshow(siyahbeyaz, 'gray', interpolation='none')\n",
        "plt.subplot(1,3,2)\n",
        "plt.imshow(siyahbeyaz_cerceveli, 'gray', interpolation='none')\n",
        "plt.subplot(1,3,3)\n",
        "plt.imshow( siyahbeyaz_cerceveli_kosegen, 'gray', interpolation='none')"
      ],
      "execution_count": 0,
      "outputs": [
        {
          "output_type": "execute_result",
          "data": {
            "text/plain": [
              "<matplotlib.image.AxesImage at 0x7fbe732c3f98>"
            ]
          },
          "metadata": {
            "tags": []
          },
          "execution_count": 1
        },
        {
          "output_type": "display_data",
          "data": {
            "image/png": "[encoded data removed]",
            "text/plain": [
              "<Figure size 432x288 with 3 Axes>"
            ]
          },
          "metadata": {
            "tags": []
          }
        }
      ]
    }
  ]
}