{
  "nbformat": 4,
  "nbformat_minor": 0,
  "metadata": {
    "colab": {
      "name": "PyTorch Başlangıç.ipynb",
      "version": "0.3.2",
      "provenance": []
    },
    "kernelspec": {
      "name": "python3",
      "display_name": "Python 3"
    }
  },
  "cells": [
    {
      "cell_type": "markdown",
      "metadata": {
        "id": "bcqCVBdJ8_sJ",
        "colab_type": "text"
      },
      "source": [
        "**PyTorch da Matris işlemleri Numpy kütüphanesi gibi ve çok benzerler**"
      ]
    },
    {
      "cell_type": "code",
      "metadata": {
        "id": "b5b4_E6X8RTN",
        "colab_type": "code",
        "colab": {}
      },
      "source": [
        "import torch\n",
        "import numpy as np"
      ],
      "execution_count": 0,
      "outputs": []
    },
    {
      "cell_type": "markdown",
      "metadata": {
        "id": "ZcVRQO0S8e3O",
        "colab_type": "text"
      },
      "source": [
        "**Rastgele Sayılardan Oluşan Matris**"
      ]
    },
    {
      "cell_type": "code",
      "metadata": {
        "id": "3Xkr0Eku8bIt",
        "colab_type": "code",
        "colab": {
          "base_uri": "https://localhost:8080/",
          "height": 85
        },
        "outputId": "ada52c86-01d9-4fb4-dd6c-a0efea01f029"
      },
      "source": [
        "rastgele=torch.rand(4,4)\n",
        "print(rastgele)"
      ],
      "execution_count": 21,
      "outputs": [
        {
          "output_type": "stream",
          "text": [
            "tensor([[0.5045, 0.7049, 0.7944, 0.1627],\n",
            "        [0.9287, 0.1695, 0.3122, 0.2338],\n",
            "        [0.1907, 0.0253, 0.6011, 0.3051],\n",
            "        [0.6779, 0.2653, 0.6725, 0.1408]])\n"
          ],
          "name": "stdout"
        }
      ]
    },
    {
      "cell_type": "markdown",
      "metadata": {
        "id": "tMnLT2ut9TQZ",
        "colab_type": "text"
      },
      "source": [
        "**Birlerden oluşan Matris oluşturma**\n",
        "\n",
        "**Aynı zamanda numpy'da olduğu gibi tip belirlemesi yapabiliyoruz.**"
      ]
    },
    {
      "cell_type": "code",
      "metadata": {
        "id": "NtLhpGDl8bd0",
        "colab_type": "code",
        "colab": {
          "base_uri": "https://localhost:8080/",
          "height": 85
        },
        "outputId": "9dccca6e-5568-4a26-ed8e-92dfbc5f0403"
      },
      "source": [
        "bir=torch.ones(4,4,dtype=torch.int)\n",
        "print(bir)"
      ],
      "execution_count": 22,
      "outputs": [
        {
          "output_type": "stream",
          "text": [
            "tensor([[1, 1, 1, 1],\n",
            "        [1, 1, 1, 1],\n",
            "        [1, 1, 1, 1],\n",
            "        [1, 1, 1, 1]], dtype=torch.int32)\n"
          ],
          "name": "stdout"
        }
      ]
    },
    {
      "cell_type": "markdown",
      "metadata": {
        "id": "wwpeZfEf92ot",
        "colab_type": "text"
      },
      "source": [
        "**Matrisin Boyutlarını Öğrenme**"
      ]
    },
    {
      "cell_type": "code",
      "metadata": {
        "id": "ZGOlkZkZ8bgQ",
        "colab_type": "code",
        "colab": {
          "base_uri": "https://localhost:8080/",
          "height": 51
        },
        "outputId": "783e14b4-e3e0-48a7-c727-a596d038eebb"
      },
      "source": [
        "print(bir.shape)\n",
        "print(rastgele.size())"
      ],
      "execution_count": 23,
      "outputs": [
        {
          "output_type": "stream",
          "text": [
            "torch.Size([4, 4])\n",
            "torch.Size([4, 4])\n"
          ],
          "name": "stdout"
        }
      ]
    },
    {
      "cell_type": "markdown",
      "metadata": {
        "id": "bG1oz-7L98y4",
        "colab_type": "text"
      },
      "source": [
        "**Matrisi yeniden boyutlandırma**"
      ]
    },
    {
      "cell_type": "code",
      "metadata": {
        "id": "Egi6XLip8bjA",
        "colab_type": "code",
        "colab": {
          "base_uri": "https://localhost:8080/",
          "height": 51
        },
        "outputId": "73ed0fc0-6166-4329-a170-88cc6d920cc1"
      },
      "source": [
        "bir=bir.view(16)\n",
        "rastgele=rastgele.view(2,8)\n",
        "print(bir.shape)\n",
        "print(rastgele.shape)"
      ],
      "execution_count": 26,
      "outputs": [
        {
          "output_type": "stream",
          "text": [
            "torch.Size([16])\n",
            "torch.Size([2, 8])\n"
          ],
          "name": "stdout"
        }
      ]
    },
    {
      "cell_type": "markdown",
      "metadata": {
        "id": "P7pXnhfaBhtS",
        "colab_type": "text"
      },
      "source": [
        "**Fonksiyonun sonuna \"_\" ekleyerek matrisi tekrar kendisine eşitlemeden matrise ekleme çıkarma vs.yapabiliriz.**"
      ]
    },
    {
      "cell_type": "code",
      "metadata": {
        "id": "zgifZCw-Bg2R",
        "colab_type": "code",
        "colab": {
          "base_uri": "https://localhost:8080/",
          "height": 68
        },
        "outputId": "746d954b-d17d-4fd8-f92b-2edf024d56d9"
      },
      "source": [
        "rastgele_2=torch.ones(3,2)\n",
        "rastgele_2"
      ],
      "execution_count": 34,
      "outputs": [
        {
          "output_type": "execute_result",
          "data": {
            "text/plain": [
              "tensor([[1., 1.],\n",
              "        [1., 1.],\n",
              "        [1., 1.]])"
            ]
          },
          "metadata": {
            "tags": []
          },
          "execution_count": 34
        }
      ]
    },
    {
      "cell_type": "code",
      "metadata": {
        "id": "Eye2UUo5Bg5E",
        "colab_type": "code",
        "colab": {
          "base_uri": "https://localhost:8080/",
          "height": 68
        },
        "outputId": "d849b706-38fa-47fa-82da-dd5760ba19bd"
      },
      "source": [
        "rastgele_2.add(6) #Rastgele_2 yi değiştirmiyor.\n",
        "print(rastgele_2)"
      ],
      "execution_count": 35,
      "outputs": [
        {
          "output_type": "stream",
          "text": [
            "tensor([[1., 1.],\n",
            "        [1., 1.],\n",
            "        [1., 1.]])\n"
          ],
          "name": "stdout"
        }
      ]
    },
    {
      "cell_type": "code",
      "metadata": {
        "id": "rxhQ_IT_Bg8A",
        "colab_type": "code",
        "colab": {
          "base_uri": "https://localhost:8080/",
          "height": 68
        },
        "outputId": "d48e3b36-0c27-49b9-eb0c-d2a7001900b8"
      },
      "source": [
        "rastgele_2.add_(6) #Rastgele_2 yi değiştiriyor.\n",
        "print(rastgele_2)"
      ],
      "execution_count": 36,
      "outputs": [
        {
          "output_type": "stream",
          "text": [
            "tensor([[7., 7.],\n",
            "        [7., 7.],\n",
            "        [7., 7.]])\n"
          ],
          "name": "stdout"
        }
      ]
    },
    {
      "cell_type": "markdown",
      "metadata": {
        "id": "yfdcHsdwDDMR",
        "colab_type": "text"
      },
      "source": [
        "**Numpy'dan Tensor'a <----> Tensor'dan Numpy'a**"
      ]
    },
    {
      "cell_type": "code",
      "metadata": {
        "id": "AhdgYzTvBg-v",
        "colab_type": "code",
        "colab": {
          "base_uri": "https://localhost:8080/",
          "height": 68
        },
        "outputId": "c405f90b-844e-4201-e821-52053e230996"
      },
      "source": [
        "numpyx=np.zeros((3,2))\n",
        "numpyx"
      ],
      "execution_count": 76,
      "outputs": [
        {
          "output_type": "execute_result",
          "data": {
            "text/plain": [
              "array([[0., 0.],\n",
              "       [0., 0.],\n",
              "       [0., 0.]])"
            ]
          },
          "metadata": {
            "tags": []
          },
          "execution_count": 76
        }
      ]
    },
    {
      "cell_type": "code",
      "metadata": {
        "id": "rrvR7-wjBhBt",
        "colab_type": "code",
        "colab": {
          "base_uri": "https://localhost:8080/",
          "height": 68
        },
        "outputId": "2013dd41-c5a6-4717-81a9-1c8cc264e553"
      },
      "source": [
        "tensorx=torch.from_numpy(numpyx)\n",
        "tensorx"
      ],
      "execution_count": 77,
      "outputs": [
        {
          "output_type": "execute_result",
          "data": {
            "text/plain": [
              "tensor([[0., 0.],\n",
              "        [0., 0.],\n",
              "        [0., 0.]], dtype=torch.float64)"
            ]
          },
          "metadata": {
            "tags": []
          },
          "execution_count": 77
        }
      ]
    },
    {
      "cell_type": "code",
      "metadata": {
        "id": "42skyP6tDZAt",
        "colab_type": "code",
        "colab": {
          "base_uri": "https://localhost:8080/",
          "height": 68
        },
        "outputId": "897c6d98-03a1-43d3-bd36-fdc3d56679c0"
      },
      "source": [
        "numpyx=tensorx.numpy()\n",
        "numpyx"
      ],
      "execution_count": 78,
      "outputs": [
        {
          "output_type": "execute_result",
          "data": {
            "text/plain": [
              "array([[0., 0.],\n",
              "       [0., 0.],\n",
              "       [0., 0.]])"
            ]
          },
          "metadata": {
            "tags": []
          },
          "execution_count": 78
        }
      ]
    },
    {
      "cell_type": "markdown",
      "metadata": {
        "id": "LQB3_3ZADuUB",
        "colab_type": "text"
      },
      "source": [
        "**Dikkat edilmesi nokta birbirine çevirdiğimiz numpy ve tensor aynı belleği paylaşıyorlar. Yani birini değiştirdiğimizde diğeri de değişiyor.**"
      ]
    },
    {
      "cell_type": "code",
      "metadata": {
        "id": "g3acA78lD7Ke",
        "colab_type": "code",
        "colab": {
          "base_uri": "https://localhost:8080/",
          "height": 68
        },
        "outputId": "89ca49b4-ddf0-4a23-d3a7-dcaa9d09c603"
      },
      "source": [
        "tensorx.add_(5)\n",
        "tensorx"
      ],
      "execution_count": 79,
      "outputs": [
        {
          "output_type": "execute_result",
          "data": {
            "text/plain": [
              "tensor([[5., 5.],\n",
              "        [5., 5.],\n",
              "        [5., 5.]], dtype=torch.float64)"
            ]
          },
          "metadata": {
            "tags": []
          },
          "execution_count": 79
        }
      ]
    },
    {
      "cell_type": "code",
      "metadata": {
        "id": "f3SaZqCCD7oJ",
        "colab_type": "code",
        "colab": {
          "base_uri": "https://localhost:8080/",
          "height": 68
        },
        "outputId": "0984577f-ebe1-442f-ce98-b080ee027c7c"
      },
      "source": [
        "numpyx"
      ],
      "execution_count": 80,
      "outputs": [
        {
          "output_type": "execute_result",
          "data": {
            "text/plain": [
              "array([[5., 5.],\n",
              "       [5., 5.],\n",
              "       [5., 5.]])"
            ]
          },
          "metadata": {
            "tags": []
          },
          "execution_count": 80
        }
      ]
    },
    {
      "cell_type": "markdown",
      "metadata": {
        "id": "QO2J4Ev7FOyz",
        "colab_type": "text"
      },
      "source": [
        "**Numpy değiştirdiğimizde Tensor değişmiyor.**"
      ]
    },
    {
      "cell_type": "code",
      "metadata": {
        "id": "BTJkACNzFNAu",
        "colab_type": "code",
        "colab": {
          "base_uri": "https://localhost:8080/",
          "height": 68
        },
        "outputId": "f96fbfb6-4135-4590-e9bf-af225b6a25df"
      },
      "source": [
        "numpyx=numpyx*5\n",
        "numpyx"
      ],
      "execution_count": 81,
      "outputs": [
        {
          "output_type": "execute_result",
          "data": {
            "text/plain": [
              "array([[25., 25.],\n",
              "       [25., 25.],\n",
              "       [25., 25.]])"
            ]
          },
          "metadata": {
            "tags": []
          },
          "execution_count": 81
        }
      ]
    },
    {
      "cell_type": "code",
      "metadata": {
        "id": "lvAysr4vFM9Q",
        "colab_type": "code",
        "colab": {
          "base_uri": "https://localhost:8080/",
          "height": 68
        },
        "outputId": "81fc0dc6-591c-4251-f046-00ef419b6af6"
      },
      "source": [
        "tensorx"
      ],
      "execution_count": 82,
      "outputs": [
        {
          "output_type": "execute_result",
          "data": {
            "text/plain": [
              "tensor([[5., 5.],\n",
              "        [5., 5.],\n",
              "        [5., 5.]], dtype=torch.float64)"
            ]
          },
          "metadata": {
            "tags": []
          },
          "execution_count": 82
        }
      ]
    }
  ]
}