{
  "nbformat": 4,
  "nbformat_minor": 0,
  "metadata": {
    "colab": {
      "name": "Python Koleksiyonlar.ipynb",
      "provenance": [],
      "collapsed_sections": [],
      "authorship_tag": "ABX9TyNrxteHCP/lvCTwFbj+8ees"
    },
    "kernelspec": {
      "name": "python3",
      "display_name": "Python 3"
    }
  },
  "cells": [
    {
      "cell_type": "markdown",
      "metadata": {
        "id": "FGFCq4tWpeK0",
        "colab_type": "text"
      },
      "source": [
        "##ChainMap\n",
        "\n",
        "Birden çok map ve dict türlerini bir arada toplayıp tek ve güncellenebilen bir görüntü oluşturur. Herhangi bir map tanımlanmazsa otomatik bir tane boş dictionary içinde barındırır."
      ]
    },
    {
      "cell_type": "code",
      "metadata": {
        "id": "-TmDje2upft8",
        "colab_type": "code",
        "outputId": "6373232e-ce16-4490-f482-79e23d380a5c",
        "colab": {
          "base_uri": "https://localhost:8080/",
          "height": 51
        }
      },
      "source": [
        "from collections import ChainMap\n",
        "\n",
        "datarunner = {\"python\": \"collections\", \"medium\": \"yazi\"}\n",
        "advice = {\"python\": \"dictionary\",\"ai\": \"machine_learning\"}\n",
        "\n",
        "chain = ChainMap(datarunner,advice)\n",
        "print(\"Keyler: \", list(chain)) # İçinde barındırdığı keyler\n",
        "print(\"chain: \",chain)"
      ],
      "execution_count": 45,
      "outputs": [
        {
          "output_type": "stream",
          "text": [
            "Keyler:  ['medium', 'python', 'ai']\n",
            "chain:  ChainMap({'python': 'collections', 'medium': 'yazi'}, {'python': 'dictionary', 'ai': 'machine_learning'})\n"
          ],
          "name": "stdout"
        }
      ]
    },
    {
      "cell_type": "markdown",
      "metadata": {
        "id": "kIQYkT7HuGcb",
        "colab_type": "text"
      },
      "source": [
        "###New_Child()\n",
        "\n",
        "Bunun ile chainMap'in yeni bir örneğini ilk elemanı boş bir dict olacak şekilde üretebiliyoruz."
      ]
    },
    {
      "cell_type": "code",
      "metadata": {
        "id": "KVpTJiqDpuk3",
        "colab_type": "code",
        "outputId": "c1ac430b-2f09-40bd-ad49-ed3baa6a7049",
        "colab": {
          "base_uri": "https://localhost:8080/",
          "height": 34
        }
      },
      "source": [
        "chain_child = chain.new_child()\n",
        "print(\"chain_child:\", chain_child)"
      ],
      "execution_count": 46,
      "outputs": [
        {
          "output_type": "stream",
          "text": [
            "chain_child: ChainMap({}, {'python': 'collections', 'medium': 'yazi'}, {'python': 'dictionary', 'ai': 'machine_learning'})\n"
          ],
          "name": "stdout"
        }
      ]
    },
    {
      "cell_type": "markdown",
      "metadata": {
        "id": "jhdWrSg8ufHI",
        "colab_type": "text"
      },
      "source": [
        "###ChainMap'e değer ekleme - silme\n",
        "\n",
        "Buna karşılık, yazma, güncelleme ve silme işlemleri yalnızca ilk eşlemede çalışır."
      ]
    },
    {
      "cell_type": "code",
      "metadata": {
        "id": "xW_-SX4bp19S",
        "colab_type": "code",
        "outputId": "ddb8addb-97b5-49b8-9cdf-afbd7e8f5ad2",
        "colab": {
          "base_uri": "https://localhost:8080/",
          "height": 51
        }
      },
      "source": [
        "#Ekleme ve silme yaparken her zaman ilk oluşturulan boş dict e veri ekliyoruz.\n",
        "chain_child[\"new_key\"] = \"key1\"\n",
        "print(\"chain_child: \", chain_child)\n",
        "\n",
        "del chain_child[\"new_key\"]\n",
        "print(\"chain_child: \", chain_child)"
      ],
      "execution_count": 47,
      "outputs": [
        {
          "output_type": "stream",
          "text": [
            "chain_child:  ChainMap({'new_key': 'key1'}, {'python': 'collections', 'medium': 'yazi'}, {'python': 'dictionary', 'ai': 'machine_learning'})\n",
            "chain_child:  ChainMap({}, {'python': 'collections', 'medium': 'yazi'}, {'python': 'dictionary', 'ai': 'machine_learning'})\n"
          ],
          "name": "stdout"
        }
      ]
    },
    {
      "cell_type": "markdown",
      "metadata": {
        "id": "IFg8OKueGMUx",
        "colab_type": "text"
      },
      "source": [
        "Diğerlerinde bulunan key ile işlem yapma"
      ]
    },
    {
      "cell_type": "code",
      "metadata": {
        "id": "9-JN1yWaGQ1X",
        "colab_type": "code",
        "outputId": "d7ddc910-394b-4e1c-8b00-53f8521a1665",
        "colab": {
          "base_uri": "https://localhost:8080/",
          "height": 425
        }
      },
      "source": [
        "del chain_child[\"python\"]\n",
        "print(\"chain_child: \", chain_child)"
      ],
      "execution_count": 48,
      "outputs": [
        {
          "output_type": "error",
          "ename": "KeyError",
          "evalue": "ignored",
          "traceback": [
            "\u001b[0;31m---------------------------------------------------------------------------\u001b[0m",
            "\u001b[0;31mKeyError\u001b[0m                                  Traceback (most recent call last)",
            "\u001b[0;32m/usr/lib/python3.6/collections/__init__.py\u001b[0m in \u001b[0;36m__delitem__\u001b[0;34m(self, key)\u001b[0m\n\u001b[1;32m    933\u001b[0m         \u001b[0;32mtry\u001b[0m\u001b[0;34m:\u001b[0m\u001b[0;34m\u001b[0m\u001b[0;34m\u001b[0m\u001b[0m\n\u001b[0;32m--> 934\u001b[0;31m             \u001b[0;32mdel\u001b[0m \u001b[0mself\u001b[0m\u001b[0;34m.\u001b[0m\u001b[0mmaps\u001b[0m\u001b[0;34m[\u001b[0m\u001b[0;36m0\u001b[0m\u001b[0;34m]\u001b[0m\u001b[0;34m[\u001b[0m\u001b[0mkey\u001b[0m\u001b[0;34m]\u001b[0m\u001b[0;34m\u001b[0m\u001b[0;34m\u001b[0m\u001b[0m\n\u001b[0m\u001b[1;32m    935\u001b[0m         \u001b[0;32mexcept\u001b[0m \u001b[0mKeyError\u001b[0m\u001b[0;34m:\u001b[0m\u001b[0;34m\u001b[0m\u001b[0;34m\u001b[0m\u001b[0m\n",
            "\u001b[0;31mKeyError\u001b[0m: 'python'",
            "\nDuring handling of the above exception, another exception occurred:\n",
            "\u001b[0;31mKeyError\u001b[0m                                  Traceback (most recent call last)",
            "\u001b[0;32m<ipython-input-48-d0bfdc90fdb0>\u001b[0m in \u001b[0;36m<module>\u001b[0;34m()\u001b[0m\n\u001b[0;32m----> 1\u001b[0;31m \u001b[0;32mdel\u001b[0m \u001b[0mchain_child\u001b[0m\u001b[0;34m[\u001b[0m\u001b[0;34m\"python\"\u001b[0m\u001b[0;34m]\u001b[0m\u001b[0;34m\u001b[0m\u001b[0;34m\u001b[0m\u001b[0m\n\u001b[0m\u001b[1;32m      2\u001b[0m \u001b[0mprint\u001b[0m\u001b[0;34m(\u001b[0m\u001b[0;34m\"chain_child: \"\u001b[0m\u001b[0;34m,\u001b[0m \u001b[0mchain_child\u001b[0m\u001b[0;34m)\u001b[0m\u001b[0;34m\u001b[0m\u001b[0;34m\u001b[0m\u001b[0m\n",
            "\u001b[0;32m/usr/lib/python3.6/collections/__init__.py\u001b[0m in \u001b[0;36m__delitem__\u001b[0;34m(self, key)\u001b[0m\n\u001b[1;32m    934\u001b[0m             \u001b[0;32mdel\u001b[0m \u001b[0mself\u001b[0m\u001b[0;34m.\u001b[0m\u001b[0mmaps\u001b[0m\u001b[0;34m[\u001b[0m\u001b[0;36m0\u001b[0m\u001b[0;34m]\u001b[0m\u001b[0;34m[\u001b[0m\u001b[0mkey\u001b[0m\u001b[0;34m]\u001b[0m\u001b[0;34m\u001b[0m\u001b[0;34m\u001b[0m\u001b[0m\n\u001b[1;32m    935\u001b[0m         \u001b[0;32mexcept\u001b[0m \u001b[0mKeyError\u001b[0m\u001b[0;34m:\u001b[0m\u001b[0;34m\u001b[0m\u001b[0;34m\u001b[0m\u001b[0m\n\u001b[0;32m--> 936\u001b[0;31m             \u001b[0;32mraise\u001b[0m \u001b[0mKeyError\u001b[0m\u001b[0;34m(\u001b[0m\u001b[0;34m'Key not found in the first mapping: {!r}'\u001b[0m\u001b[0;34m.\u001b[0m\u001b[0mformat\u001b[0m\u001b[0;34m(\u001b[0m\u001b[0mkey\u001b[0m\u001b[0;34m)\u001b[0m\u001b[0;34m)\u001b[0m\u001b[0;34m\u001b[0m\u001b[0;34m\u001b[0m\u001b[0m\n\u001b[0m\u001b[1;32m    937\u001b[0m \u001b[0;34m\u001b[0m\u001b[0m\n\u001b[1;32m    938\u001b[0m     \u001b[0;32mdef\u001b[0m \u001b[0mpopitem\u001b[0m\u001b[0;34m(\u001b[0m\u001b[0mself\u001b[0m\u001b[0;34m)\u001b[0m\u001b[0;34m:\u001b[0m\u001b[0;34m\u001b[0m\u001b[0;34m\u001b[0m\u001b[0m\n",
            "\u001b[0;31mKeyError\u001b[0m: \"Key not found in the first mapping: 'python'\""
          ]
        }
      ]
    },
    {
      "cell_type": "markdown",
      "metadata": {
        "id": "QcCG1oZrxPZT",
        "colab_type": "text"
      },
      "source": [
        "İlki dışında diğer maplere değer atama silme işlemi"
      ]
    },
    {
      "cell_type": "code",
      "metadata": {
        "id": "91CrmWKIxFvl",
        "colab_type": "code",
        "outputId": "6c3d9003-cc6f-4cb7-8039-845717823022",
        "colab": {
          "base_uri": "https://localhost:8080/",
          "height": 85
        }
      },
      "source": [
        "print(\"Maps: \",chain_child.maps) # ChainMap içindeki tüm maplerin listesini verir\n",
        "print(\"Maps[1]: \",chain_child.maps[1]) #ChainMap.maps liste dönüyor bu sayede indexleme yapabiliriz. İçerdiği maplerin ilkini getiriyor.\n",
        "#2. map'in içeriğini değiştirelim\n",
        "#Değiştirme\n",
        "chain_child.maps[1][\"python\"] = \"chainmap\"\n",
        "print(\"chain_child: \", chain_child)\n",
        "#Silme\n",
        "del chain_child.maps[2][\"ai\"]\n",
        "print(\"chain_child: \", chain_child)"
      ],
      "execution_count": 49,
      "outputs": [
        {
          "output_type": "stream",
          "text": [
            "Maps:  [{}, {'python': 'collections', 'medium': 'yazi'}, {'python': 'dictionary', 'ai': 'machine_learning'}]\n",
            "Maps[1]:  {'python': 'collections', 'medium': 'yazi'}\n",
            "chain_child:  ChainMap({}, {'python': 'chainmap', 'medium': 'yazi'}, {'python': 'dictionary', 'ai': 'machine_learning'})\n",
            "chain_child:  ChainMap({}, {'python': 'chainmap', 'medium': 'yazi'}, {'python': 'dictionary'})\n"
          ],
          "name": "stdout"
        }
      ]
    },
    {
      "cell_type": "markdown",
      "metadata": {
        "id": "kW98H1LNvL9E",
        "colab_type": "text"
      },
      "source": [
        "###Parents\n",
        "\n",
        "İlk içerdiği dışındaki tüm mapleri içeren yeni bir ChainMap döndürür. Bu aramadaki ilk map i atlamak için kullanışlıdır."
      ]
    },
    {
      "cell_type": "code",
      "metadata": {
        "id": "LgMSe-4uqEbJ",
        "colab_type": "code",
        "outputId": "32fd1af6-a680-4c59-eaaa-133ed0a614c6",
        "colab": {
          "base_uri": "https://localhost:8080/",
          "height": 34
        }
      },
      "source": [
        "chain_parent = chain.parents # 1. si hariç diğerlerini döndürüyor.\n",
        "print(\"chain_parent: \", chain_parent)"
      ],
      "execution_count": 50,
      "outputs": [
        {
          "output_type": "stream",
          "text": [
            "chain_parent:  ChainMap({'python': 'dictionary'})\n"
          ],
          "name": "stdout"
        }
      ]
    },
    {
      "cell_type": "markdown",
      "metadata": {
        "id": "4vD_z726yXKw",
        "colab_type": "text"
      },
      "source": [
        "##Counter\n",
        "\n",
        "Nesneleri saymak için kullanılan bir dict alt sınıfıdır."
      ]
    },
    {
      "cell_type": "code",
      "metadata": {
        "id": "6cRksKNdxB0p",
        "colab_type": "code",
        "outputId": "94936350-51a9-444a-eb7d-4cbcfa436213",
        "colab": {
          "base_uri": "https://localhost:8080/",
          "height": 34
        }
      },
      "source": [
        "from collections import Counter\n",
        "cnt = Counter()\n",
        "#Değer ekleme\n",
        "cnt[\"python\"] = \"counter\"\n",
        "print(\"cnt: \",cnt)"
      ],
      "execution_count": 51,
      "outputs": [
        {
          "output_type": "stream",
          "text": [
            "cnt:  Counter({'python': 'counter'})\n"
          ],
          "name": "stdout"
        }
      ]
    },
    {
      "cell_type": "markdown",
      "metadata": {
        "id": "i4dE5nij4AN0",
        "colab_type": "text"
      },
      "source": [
        "Counter lar String,map ve anahtar kelime argümanları alabilirler."
      ]
    },
    {
      "cell_type": "code",
      "metadata": {
        "id": "1Geg-I5NzC5F",
        "colab_type": "code",
        "colab": {}
      },
      "source": [
        "cnt = Counter(\"datarunner\")\n",
        "cnt = Counter({'red': 4, 'blue': 2})\n",
        "cnt = Counter(red = 4, blue = 2)"
      ],
      "execution_count": 0,
      "outputs": []
    },
    {
      "cell_type": "code",
      "metadata": {
        "id": "wVRLeHE_3d8v",
        "colab_type": "code",
        "outputId": "51bd4dbd-d5fc-42e9-a17f-75b42709488f",
        "colab": {
          "base_uri": "https://localhost:8080/",
          "height": 51
        }
      },
      "source": [
        "print(cnt[\"red\"])\n",
        "#Olmayan key deneme\n",
        "print(cnt[\"green\"]) #Olmayan bir key ise 0 döndürür."
      ],
      "execution_count": 54,
      "outputs": [
        {
          "output_type": "stream",
          "text": [
            "4\n",
            "0\n"
          ],
          "name": "stdout"
        }
      ]
    },
    {
      "cell_type": "markdown",
      "metadata": {
        "id": "mxEkX-5e5wCY",
        "colab_type": "text"
      },
      "source": [
        "###elements()\n",
        "\n",
        "İçinde bulunan değerleri ve tekrar eden elemanları içeren iterator döndürür. "
      ]
    },
    {
      "cell_type": "code",
      "metadata": {
        "id": "D_AaJ9i-531b",
        "colab_type": "code",
        "outputId": "d620cfd2-4a36-40cb-8acb-d3edddc83a82",
        "colab": {
          "base_uri": "https://localhost:8080/",
          "height": 51
        }
      },
      "source": [
        "c = Counter(\"Python koleksiyonları\")\n",
        "c_iter = c.elements()\n",
        "print(type(c_iter))\n",
        "for i in c_iter:\n",
        "  print(i,end=\"\")\n",
        "#y -> 2 kere\n",
        "#o -> 3 kere yazar. 3 tane var."
      ],
      "execution_count": 55,
      "outputs": [
        {
          "output_type": "stream",
          "text": [
            "<class 'itertools.chain'>\n",
            "Pyythooonn kkllesiarı"
          ],
          "name": "stdout"
        }
      ]
    },
    {
      "cell_type": "markdown",
      "metadata": {
        "id": "PcwrxDfl6-zm",
        "colab_type": "text"
      },
      "source": [
        "###most_common([n]) \n",
        "\n",
        "Counter içinde en çok tekrar eden elemanları döndürür."
      ]
    },
    {
      "cell_type": "code",
      "metadata": {
        "id": "pusS2VMS53y9",
        "colab_type": "code",
        "outputId": "3b7bba60-3544-4731-a225-d2391d98d25c",
        "colab": {
          "base_uri": "https://localhost:8080/",
          "height": 34
        }
      },
      "source": [
        "metin = \"Medium yazısı. Python kolesysiyonlar. Medium. Yazı.\"\n",
        "c_metin = Counter(metin)\n",
        "print(\"Most common: \",c_metin.most_common(5))"
      ],
      "execution_count": 56,
      "outputs": [
        {
          "output_type": "stream",
          "text": [
            "Most common:  [(' ', 5), ('y', 4), ('.', 4), ('e', 3), ('i', 3)]\n"
          ],
          "name": "stdout"
        }
      ]
    },
    {
      "cell_type": "markdown",
      "metadata": {
        "id": "9whCmgrI7uah",
        "colab_type": "text"
      },
      "source": [
        "###substract()\n",
        "\n",
        "2 counter'ı çıkarmak için kullanılır."
      ]
    },
    {
      "cell_type": "code",
      "metadata": {
        "id": "KaAcWAw653v-",
        "colab_type": "code",
        "outputId": "bd1f6a0a-076d-468b-94fe-511a36a33824",
        "colab": {
          "base_uri": "https://localhost:8080/",
          "height": 34
        }
      },
      "source": [
        "cnt_1 = Counter(a=5,b=2,c=-5,d=0)\n",
        "cnt_2 = Counter(a=2,b=-2,c= 10)\n",
        "cnt_1.subtract(cnt_2) # cnt_1 - cnt_2\n",
        "print(\"Result: \", cnt_1)"
      ],
      "execution_count": 57,
      "outputs": [
        {
          "output_type": "stream",
          "text": [
            "Result:  Counter({'b': 4, 'a': 3, 'd': 0, 'c': -15})\n"
          ],
          "name": "stdout"
        }
      ]
    },
    {
      "cell_type": "markdown",
      "metadata": {
        "id": "0yR24jVO8pvt",
        "colab_type": "text"
      },
      "source": [
        "Negatif Değerlerden Kurtulma"
      ]
    },
    {
      "cell_type": "code",
      "metadata": {
        "id": "M8ahJQPL53tn",
        "colab_type": "code",
        "outputId": "1cee2681-3f86-48b6-d805-55e973ff7558",
        "colab": {
          "base_uri": "https://localhost:8080/",
          "height": 34
        }
      },
      "source": [
        "# Sıfır ve negatifler hariç\n",
        "print(+cnt_1)"
      ],
      "execution_count": 58,
      "outputs": [
        {
          "output_type": "stream",
          "text": [
            "Counter({'b': 4, 'a': 3})\n"
          ],
          "name": "stdout"
        }
      ]
    },
    {
      "cell_type": "code",
      "metadata": {
        "id": "XSUjmj6A8mvK",
        "colab_type": "code",
        "outputId": "5a6239e6-abb4-42eb-9b21-c9b10198f5f5",
        "colab": {
          "base_uri": "https://localhost:8080/",
          "height": 34
        }
      },
      "source": [
        "#Pozitifler hariç\n",
        "-cnt_1"
      ],
      "execution_count": 59,
      "outputs": [
        {
          "output_type": "execute_result",
          "data": {
            "text/plain": [
              "Counter({'c': 15})"
            ]
          },
          "metadata": {
            "tags": []
          },
          "execution_count": 59
        }
      ]
    },
    {
      "cell_type": "markdown",
      "metadata": {
        "id": "xtMkLbW_9xpu",
        "colab_type": "text"
      },
      "source": [
        "##Deque\n",
        "\n",
        "Stack ve Queue nin genelleştirilmiş hali. Thread Safelerdir. Listelerdeki fonksiyonlara sahiptir. append() pop() insert() gibi\n",
        "\n",
        "Maximum uzunluk belirtilebilir. maxlen \n",
        "\n",
        "En son etkinliği izlemek için kullanışlıdırlar."
      ]
    },
    {
      "cell_type": "code",
      "metadata": {
        "id": "1kZzk1RT81Ns",
        "colab_type": "code",
        "outputId": "571d8a66-40ac-48bb-b8a2-3e7577822a98",
        "colab": {
          "base_uri": "https://localhost:8080/",
          "height": 68
        }
      },
      "source": [
        "from collections import deque\n",
        "\n",
        "dq = deque([1,2,3,4,5]) #maxlen = None\n",
        "dq_maxlen = deque([1,2,3,4,5,6],4) #maxlen = 4\n",
        "print(\"dq: \",dq)\n",
        "print(\"dq_maxlen: \",dq_maxlen)\n",
        "print(\"dq maxlen: \",dq_maxlen.maxlen)"
      ],
      "execution_count": 60,
      "outputs": [
        {
          "output_type": "stream",
          "text": [
            "dq:  deque([1, 2, 3, 4, 5])\n",
            "dq_maxlen:  deque([3, 4, 5, 6], maxlen=4)\n",
            "dq maxlen:  4\n"
          ],
          "name": "stdout"
        }
      ]
    },
    {
      "cell_type": "markdown",
      "metadata": {
        "id": "STtfqq4dA0b9",
        "colab_type": "text"
      },
      "source": [
        "maxlen belirlenmiş bir deque e veri eklersek eklediğimiz yönün tersinden eski veri silinir."
      ]
    },
    {
      "cell_type": "code",
      "metadata": {
        "id": "f2Y_wIpU_Hw-",
        "colab_type": "code",
        "outputId": "8a4ed2b8-6173-4b2c-a13f-a7b2d460479a",
        "colab": {
          "base_uri": "https://localhost:8080/",
          "height": 34
        }
      },
      "source": [
        "dq_maxlen = deque([1,2,3], 3)\n",
        "dq_maxlen.append(4)\n",
        "print(\"dq_maxlen: \", dq_maxlen)"
      ],
      "execution_count": 61,
      "outputs": [
        {
          "output_type": "stream",
          "text": [
            "dq_maxlen:  deque([2, 3, 4], maxlen=3)\n"
          ],
          "name": "stdout"
        }
      ]
    },
    {
      "cell_type": "code",
      "metadata": {
        "id": "HkY60k4FAEhu",
        "colab_type": "code",
        "outputId": "94fdfd09-efa2-4fbf-b8df-c556639c7ddb",
        "colab": {
          "base_uri": "https://localhost:8080/",
          "height": 34
        }
      },
      "source": [
        "dq_maxlen.appendleft(5)\n",
        "print(\"dq_maxlen: \", dq_maxlen)"
      ],
      "execution_count": 62,
      "outputs": [
        {
          "output_type": "stream",
          "text": [
            "dq_maxlen:  deque([5, 2, 3], maxlen=3)\n"
          ],
          "name": "stdout"
        }
      ]
    },
    {
      "cell_type": "markdown",
      "metadata": {
        "id": "bvHY9CkeBdKj",
        "colab_type": "text"
      },
      "source": [
        "###extend\n",
        "\n",
        "extend ile tek seferde birden çok veri eklemek için kullanılır.\n",
        "extend() extendleft()"
      ]
    },
    {
      "cell_type": "code",
      "metadata": {
        "id": "DF8sOrOkBWVT",
        "colab_type": "code",
        "outputId": "4ef69ebe-fead-4126-e559-a844cc356931",
        "colab": {
          "base_uri": "https://localhost:8080/",
          "height": 51
        }
      },
      "source": [
        "dq = deque(\"deque\")\n",
        "print(\"dq: \", dq)\n",
        "dq.extend(\"extend\")\n",
        "print(\"dq: \", dq)"
      ],
      "execution_count": 63,
      "outputs": [
        {
          "output_type": "stream",
          "text": [
            "dq:  deque(['d', 'e', 'q', 'u', 'e'])\n",
            "dq:  deque(['d', 'e', 'q', 'u', 'e', 'e', 'x', 't', 'e', 'n', 'd'])\n"
          ],
          "name": "stdout"
        }
      ]
    },
    {
      "cell_type": "markdown",
      "metadata": {
        "id": "qJeKUg6mCWcU",
        "colab_type": "text"
      },
      "source": [
        "###rotate()\n",
        "\n",
        "deque sağa yada sola döndürür. negatif ise sola pozitif ise sağa"
      ]
    },
    {
      "cell_type": "code",
      "metadata": {
        "id": "Ji2FhHiiB9Ok",
        "colab_type": "code",
        "outputId": "9a4c7e56-5fbe-4dda-9a17-2f92b3cfcf46",
        "colab": {
          "base_uri": "https://localhost:8080/",
          "height": 51
        }
      },
      "source": [
        "dq = deque([1,2,3])\n",
        "dq.rotate(1)\n",
        "print(\"dq: \", dq)\n",
        "dq.rotate(-2)\n",
        "print(\"dq: \", dq)"
      ],
      "execution_count": 64,
      "outputs": [
        {
          "output_type": "stream",
          "text": [
            "dq:  deque([3, 1, 2])\n",
            "dq:  deque([2, 3, 1])\n"
          ],
          "name": "stdout"
        }
      ]
    },
    {
      "cell_type": "markdown",
      "metadata": {
        "id": "O-R7bHTaD9X9",
        "colab_type": "text"
      },
      "source": [
        "##namedtuple\n",
        "\n",
        "namedtuple(typename, field_names, *, rename=False, defaults=None, module=None)\n",
        "\n",
        "bir tuple içindeki her bir konuma anlam atar ve daha okunabilir, kendi kendini belgeleyen koda izin verir. Normal tuple'lerin kullanıldığı her yerde kullanılabilirler ve alanlara indeksler yerine ada göre erişme yeteneği eklerler.\n",
        "\n",
        "namedtuple özellikle cvs veya sqlite3 modülleri tarafından döndürülen sonuç gruplarina alan adları atamak için özellikle kullanışlıdır."
      ]
    },
    {
      "cell_type": "code",
      "metadata": {
        "id": "cab9QwN2Ch1T",
        "colab_type": "code",
        "colab": {}
      },
      "source": [
        "from collections import namedtuple\n",
        "runner_tuple = namedtuple(\"datarunner\",[\"field1\",\"field2\"])"
      ],
      "execution_count": 0,
      "outputs": []
    },
    {
      "cell_type": "code",
      "metadata": {
        "id": "Yl4DsUphEHJl",
        "colab_type": "code",
        "outputId": "9a658f2d-ed56-4964-9b08-5c9240014887",
        "colab": {
          "base_uri": "https://localhost:8080/",
          "height": 51
        }
      },
      "source": [
        "ntuple = runner_tuple(field1= 2,field2= 5)\n",
        "print(\"ntuple: \", ntuple)\n",
        "print(\"field1: \", ntuple.field1) # Alan adına göre çağırabiliyoruz."
      ],
      "execution_count": 66,
      "outputs": [
        {
          "output_type": "stream",
          "text": [
            "ntuple:  datarunner(field1=2, field2=5)\n",
            "field1:  2\n"
          ],
          "name": "stdout"
        }
      ]
    },
    {
      "cell_type": "markdown",
      "metadata": {
        "id": "SAfiXu_wOQ7n",
        "colab_type": "text"
      },
      "source": [
        "###_fields\n",
        "\n",
        "namedtuple içindeki alanları döndürür."
      ]
    },
    {
      "cell_type": "code",
      "metadata": {
        "id": "oZ_QQi3VOW6b",
        "colab_type": "code",
        "outputId": "3724a7f9-3b6c-4c62-bdd8-31b6ed7b433f",
        "colab": {
          "base_uri": "https://localhost:8080/",
          "height": 34
        }
      },
      "source": [
        "print(\"ntuple fields: \", ntuple._fields)"
      ],
      "execution_count": 67,
      "outputs": [
        {
          "output_type": "stream",
          "text": [
            "ntuple fields:  ('field1', 'field2')\n"
          ],
          "name": "stdout"
        }
      ]
    },
    {
      "cell_type": "markdown",
      "metadata": {
        "id": "fp_EUY4DH6hg",
        "colab_type": "text"
      },
      "source": [
        "###_make(iterable)\n",
        "\n",
        "yeni değerlerle namedtuple oluşturma."
      ]
    },
    {
      "cell_type": "code",
      "metadata": {
        "id": "1WsNAlP1HDfK",
        "colab_type": "code",
        "outputId": "329e031b-fd7d-4cd6-dcc8-65afc3df2944",
        "colab": {
          "base_uri": "https://localhost:8080/",
          "height": 34
        }
      },
      "source": [
        "new_tuple = runner_tuple._make([3,5])\n",
        "print(\"new_tuple: \", new_tuple)"
      ],
      "execution_count": 68,
      "outputs": [
        {
          "output_type": "stream",
          "text": [
            "new_tuple:  datarunner(field1=3, field2=5)\n"
          ],
          "name": "stdout"
        }
      ]
    },
    {
      "cell_type": "markdown",
      "metadata": {
        "id": "J1ufT3ltIPCS",
        "colab_type": "text"
      },
      "source": [
        "###_asdict()\n",
        "\n",
        "dict şeklinde çıktı sağlar."
      ]
    },
    {
      "cell_type": "code",
      "metadata": {
        "id": "09Y9IIO4IDBP",
        "colab_type": "code",
        "outputId": "c5ee53fb-98ec-491f-8fb0-69c5574bfaf2",
        "colab": {
          "base_uri": "https://localhost:8080/",
          "height": 34
        }
      },
      "source": [
        "ntuple._asdict()"
      ],
      "execution_count": 69,
      "outputs": [
        {
          "output_type": "execute_result",
          "data": {
            "text/plain": [
              "OrderedDict([('field1', 2), ('field2', 5)])"
            ]
          },
          "metadata": {
            "tags": []
          },
          "execution_count": 69
        }
      ]
    },
    {
      "cell_type": "markdown",
      "metadata": {
        "id": "y0LlIQ6vIkWc",
        "colab_type": "text"
      },
      "source": [
        "###_replace()\n",
        "\n",
        "alana yeni değer atama"
      ]
    },
    {
      "cell_type": "code",
      "metadata": {
        "id": "cXCIU39NId7j",
        "colab_type": "code",
        "outputId": "0dead28c-81f1-4d55-c4b0-2a592c7f8427",
        "colab": {
          "base_uri": "https://localhost:8080/",
          "height": 34
        }
      },
      "source": [
        "ntuple._replace(field1 = 10)\n",
        "print(\"ntuple: \", ntuple)"
      ],
      "execution_count": 70,
      "outputs": [
        {
          "output_type": "stream",
          "text": [
            "ntuple:  datarunner(field1=2, field2=5)\n"
          ],
          "name": "stdout"
        }
      ]
    }
  ]
}