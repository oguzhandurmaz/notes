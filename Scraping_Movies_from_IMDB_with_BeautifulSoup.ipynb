{
  "nbformat": 4,
  "nbformat_minor": 0,
  "metadata": {
    "colab": {
      "name": "Scraping Movie from IMDB with BeautifulSoup.ipynb",
      "version": "0.3.2",
      "provenance": [],
      "collapsed_sections": []
    },
    "kernelspec": {
      "name": "python3",
      "display_name": "Python 3"
    }
  },
  "cells": [
    {
      "cell_type": "markdown",
      "metadata": {
        "id": "lXrs-tZL8mC1",
        "colab_type": "text"
      },
      "source": [
        "**Kütüphaneleri Ekleyelim**"
      ]
    },
    {
      "cell_type": "code",
      "metadata": {
        "id": "w06dFqCd8Z14",
        "colab_type": "code",
        "colab": {}
      },
      "source": [
        "from bs4 import BeautifulSoup\n",
        "from requests import get\n",
        "import pandas as pd"
      ],
      "execution_count": 0,
      "outputs": []
    },
    {
      "cell_type": "markdown",
      "metadata": {
        "id": "ZTzOyKzG8wl5",
        "colab_type": "text"
      },
      "source": [
        "**Sitemizden Request Alalım**"
      ]
    },
    {
      "cell_type": "code",
      "metadata": {
        "id": "EeDdIUES8tQn",
        "colab_type": "code",
        "colab": {
          "base_uri": "https://localhost:8080/",
          "height": 204
        },
        "outputId": "c7619bc8-d7dc-475a-c417-358a6bd050fc"
      },
      "source": [
        "url=\"http://www.imdb.com/search/title?release_date=2017&sort=num_votes,desc&page=1\"\n",
        "cevap=get(url)\n",
        "print(cevap.text[:200])"
      ],
      "execution_count": 2,
      "outputs": [
        {
          "output_type": "stream",
          "text": [
            "\n",
            "\n",
            "\n",
            "<!DOCTYPE html>\n",
            "<html\n",
            "    xmlns:og=\"http://ogp.me/ns#\"\n",
            "    xmlns:fb=\"http://www.facebook.com/2008/fbml\">\n",
            "    <head>\n",
            "         \n",
            "        <meta charset=\"utf-8\">\n",
            "        <meta http-equiv=\"X-UA-Compatibl\n"
          ],
          "name": "stdout"
        }
      ]
    },
    {
      "cell_type": "markdown",
      "metadata": {
        "id": "LtQaEs629OqY",
        "colab_type": "text"
      },
      "source": [
        "**BeautifulSoup ile HTML içeriğini ayrıştıralım**"
      ]
    },
    {
      "cell_type": "code",
      "metadata": {
        "id": "eglmwBUk84AE",
        "colab_type": "code",
        "colab": {}
      },
      "source": [
        "html_soup=BeautifulSoup(cevap.text,\"html.parser\")"
      ],
      "execution_count": 0,
      "outputs": []
    },
    {
      "cell_type": "markdown",
      "metadata": {
        "id": "5-fT9Sjn9aNW",
        "colab_type": "text"
      },
      "source": [
        "**Sitenin HTML yapısına göz attıktan sonra verileri ayrıştırmaya başlayalım**"
      ]
    },
    {
      "cell_type": "code",
      "metadata": {
        "id": "8zc0ejUf9Y32",
        "colab_type": "code",
        "colab": {
          "base_uri": "https://localhost:8080/",
          "height": 34
        },
        "outputId": "81c99a24-23dc-4695-c43d-2446a84a7ede"
      },
      "source": [
        "film_icerikleri=html_soup.find_all(\"div\",class_=\"lister-item mode-advanced\")\n",
        "print(len(film_icerikleri))"
      ],
      "execution_count": 5,
      "outputs": [
        {
          "output_type": "stream",
          "text": [
            "50\n"
          ],
          "name": "stdout"
        }
      ]
    },
    {
      "cell_type": "markdown",
      "metadata": {
        "id": "MT9RrQTD94_8",
        "colab_type": "text"
      },
      "source": [
        "**film_icerikleri değişkenimizin içerisine  bir liste gibi erişim sağlayabiliyoruz.**"
      ]
    },
    {
      "cell_type": "code",
      "metadata": {
        "id": "ZbmXAkv593fm",
        "colab_type": "code",
        "colab": {}
      },
      "source": [
        "#film_icerikleri[0]"
      ],
      "execution_count": 0,
      "outputs": []
    },
    {
      "cell_type": "markdown",
      "metadata": {
        "id": "6C7GCMCs-LJM",
        "colab_type": "text"
      },
      "source": [
        "**İlk listedeki filmin adına ulaşalım.**"
      ]
    },
    {
      "cell_type": "code",
      "metadata": {
        "id": "G_I08UMN-Gi_",
        "colab_type": "code",
        "colab": {
          "base_uri": "https://localhost:8080/",
          "height": 34
        },
        "outputId": "e9c3d2e0-f2de-47de-82f1-d70e2f28b302"
      },
      "source": [
        "ilk_film=film_icerikleri[0]\n",
        "ilk_isim=ilk_film.h3.a.text\n",
        "ilk_isim"
      ],
      "execution_count": 13,
      "outputs": [
        {
          "output_type": "execute_result",
          "data": {
            "text/plain": [
              "'Logan'"
            ]
          },
          "metadata": {
            "tags": []
          },
          "execution_count": 13
        }
      ]
    },
    {
      "cell_type": "markdown",
      "metadata": {
        "id": "Nncfp2_i-pIA",
        "colab_type": "text"
      },
      "source": [
        "**İlk filmin çıkış yılına ulaşalım.**"
      ]
    },
    {
      "cell_type": "code",
      "metadata": {
        "id": "T0C_LBX9-b9g",
        "colab_type": "code",
        "colab": {
          "base_uri": "https://localhost:8080/",
          "height": 34
        },
        "outputId": "6ded3092-63af-4418-947d-6098e11773e4"
      },
      "source": [
        "ilk_yil=ilk_film.h3.find(\"span\",class_=\"lister-item-year text-muted unbold\")\n",
        "ilk_yil.text"
      ],
      "execution_count": 14,
      "outputs": [
        {
          "output_type": "execute_result",
          "data": {
            "text/plain": [
              "'(2017)'"
            ]
          },
          "metadata": {
            "tags": []
          },
          "execution_count": 14
        }
      ]
    },
    {
      "cell_type": "markdown",
      "metadata": {
        "id": "fExgyP7v-9G_",
        "colab_type": "text"
      },
      "source": [
        "**İlk filmin IMDB puanına ulaşalım.**"
      ]
    },
    {
      "cell_type": "code",
      "metadata": {
        "id": "_vSEMc5T-yBz",
        "colab_type": "code",
        "colab": {
          "base_uri": "https://localhost:8080/",
          "height": 34
        },
        "outputId": "725c313c-587f-4310-bbae-5728540dec98"
      },
      "source": [
        "ilk_imdb=float(ilk_film.strong.text)\n",
        "ilk_imdb"
      ],
      "execution_count": 15,
      "outputs": [
        {
          "output_type": "execute_result",
          "data": {
            "text/plain": [
              "8.1"
            ]
          },
          "metadata": {
            "tags": []
          },
          "execution_count": 15
        }
      ]
    },
    {
      "cell_type": "markdown",
      "metadata": {
        "id": "T1-tTMd4_Ikl",
        "colab_type": "text"
      },
      "source": [
        "**İlk filmin METASCORE puanına ulaşalım.**"
      ]
    },
    {
      "cell_type": "code",
      "metadata": {
        "id": "iU8iRLYv_Fs8",
        "colab_type": "code",
        "colab": {
          "base_uri": "https://localhost:8080/",
          "height": 34
        },
        "outputId": "8cd61620-8981-4e19-8e59-3849c77771bd"
      },
      "source": [
        "ilk_mscore=ilk_film.find(\"span\",class_=\"metascore favorable\")\n",
        "ilk_mscore=int(ilk_mscore.text)\n",
        "ilk_mscore"
      ],
      "execution_count": 16,
      "outputs": [
        {
          "output_type": "execute_result",
          "data": {
            "text/plain": [
              "77"
            ]
          },
          "metadata": {
            "tags": []
          },
          "execution_count": 16
        }
      ]
    },
    {
      "cell_type": "markdown",
      "metadata": {
        "id": "ns1bBDoT_QC4",
        "colab_type": "text"
      },
      "source": [
        "**İlk filmin OY sayısına ulaşalım.**"
      ]
    },
    {
      "cell_type": "code",
      "metadata": {
        "id": "JHyg7p4R_MWv",
        "colab_type": "code",
        "colab": {
          "base_uri": "https://localhost:8080/",
          "height": 51
        },
        "outputId": "5df1a4d8-91d9-496b-8c0a-c605df1bfa23"
      },
      "source": [
        "ilk_oy=ilk_film.find(\"span\",attrs={'name':'nv'})\n",
        "print(ilk_oy)\n",
        "ilk_oy=int(ilk_oy[\"data-value\"])\n",
        "ilk_oy"
      ],
      "execution_count": 17,
      "outputs": [
        {
          "output_type": "stream",
          "text": [
            "<span data-value=\"559637\" name=\"nv\">559,637</span>\n"
          ],
          "name": "stdout"
        },
        {
          "output_type": "execute_result",
          "data": {
            "text/plain": [
              "559637"
            ]
          },
          "metadata": {
            "tags": []
          },
          "execution_count": 17
        }
      ]
    },
    {
      "cell_type": "markdown",
      "metadata": {
        "id": "FDPiZXDnACG_",
        "colab_type": "text"
      },
      "source": [
        "**Bu noktada sayfaya baktığımızda METASCORE puanı olmayan değerler görüyoruz. Örneğin 23. Sıradakı  13 Reasons Why filmi**"
      ]
    },
    {
      "cell_type": "code",
      "metadata": {
        "id": "pvMaMFWoAM7e",
        "colab_type": "code",
        "colab": {
          "base_uri": "https://localhost:8080/",
          "height": 51
        },
        "outputId": "b539d6be-efc8-47b0-cae0-d2b0af56d1b1"
      },
      "source": [
        "kontrol=film_icerikleri[22]\n",
        "kontrol=kontrol.find(\"div\",class_=\"ratings-metascore\")\n",
        "print(kontrol)\n",
        "type(kontrol)"
      ],
      "execution_count": 19,
      "outputs": [
        {
          "output_type": "stream",
          "text": [
            "None\n"
          ],
          "name": "stdout"
        },
        {
          "output_type": "execute_result",
          "data": {
            "text/plain": [
              "NoneType"
            ]
          },
          "metadata": {
            "tags": []
          },
          "execution_count": 19
        }
      ]
    },
    {
      "cell_type": "markdown",
      "metadata": {
        "id": "wgm34SaGAMfa",
        "colab_type": "text"
      },
      "source": [
        "**Değişken tipi NoneType olarak dönüyor ve text'e çevirirken hata alıyoruz. Bu nedenle kontrol ediyoruz.**\n",
        "\n",
        "Hata:"
      ]
    },
    {
      "cell_type": "code",
      "metadata": {
        "id": "LlpxHNjjByhp",
        "colab_type": "code",
        "colab": {
          "base_uri": "https://localhost:8080/",
          "height": 163
        },
        "outputId": "59d565fd-875a-4648-a654-abd5655c81c1"
      },
      "source": [
        "kontrol=kontrol.find(\"div\",class_=\"ratings-metascore\").text"
      ],
      "execution_count": 20,
      "outputs": [
        {
          "output_type": "error",
          "ename": "AttributeError",
          "evalue": "ignored",
          "traceback": [
            "\u001b[0;31m---------------------------------------------------------------------------\u001b[0m",
            "\u001b[0;31mAttributeError\u001b[0m                            Traceback (most recent call last)",
            "\u001b[0;32m<ipython-input-20-8be77ee7c0c1>\u001b[0m in \u001b[0;36m<module>\u001b[0;34m()\u001b[0m\n\u001b[0;32m----> 1\u001b[0;31m \u001b[0mkontrol\u001b[0m\u001b[0;34m=\u001b[0m\u001b[0mkontrol\u001b[0m\u001b[0;34m.\u001b[0m\u001b[0mfind\u001b[0m\u001b[0;34m(\u001b[0m\u001b[0;34m\"div\"\u001b[0m\u001b[0;34m,\u001b[0m\u001b[0mclass_\u001b[0m\u001b[0;34m=\u001b[0m\u001b[0;34m\"ratings-metascore\"\u001b[0m\u001b[0;34m)\u001b[0m\u001b[0;34m.\u001b[0m\u001b[0mtext\u001b[0m\u001b[0;34m\u001b[0m\u001b[0;34m\u001b[0m\u001b[0m\n\u001b[0m",
            "\u001b[0;31mAttributeError\u001b[0m: 'NoneType' object has no attribute 'find'"
          ]
        }
      ]
    },
    {
      "cell_type": "markdown",
      "metadata": {
        "id": "rTkUVfHV_YzS",
        "colab_type": "text"
      },
      "source": [
        "**Şimdi bu ayrı ayrı yazdığımız kodları sayfadaki bütün filmlerin değerlerini almak için birleştirelim.**\n",
        "\n",
        "**Not:** Metascore puanlarının HTML kodu içerisinde **metascore favorable** ve **metascore mixed** olarak 2 şekilde tanımlandığının fark edilmesiyle bu kontrolü de yapıyoruz."
      ]
    },
    {
      "cell_type": "code",
      "metadata": {
        "id": "d1iusNWh_j3L",
        "colab_type": "code",
        "colab": {
          "base_uri": "https://localhost:8080/",
          "height": 235
        },
        "outputId": "6b4f52ac-34eb-4fbc-d127-6b21c1c0ef18"
      },
      "source": [
        "isimler=[]\n",
        "yıllar=[]\n",
        "imdbs=[]\n",
        "metascore=[]\n",
        "oylar=[]\n",
        "for icer in film_icerikleri:\n",
        "  if icer.find(\"div\",class_=\"ratings-metascore\") is not None:\n",
        "    #İSİM\n",
        "    isim=icer.h3.a.text\n",
        "    isimler.append(isim)\n",
        "    #YIL\n",
        "    yıl=icer.h3.find('span', class_ = 'lister-item-year').text\n",
        "    yıllar.append(yıl)\n",
        "    #IMDB\n",
        "    imdb=float(icer.strong.text)\n",
        "    imdbs.append(imdb)\n",
        "    #METASCORE\n",
        "    if icer.find(\"span\",class_=\"metascore favorable\") is not None:\n",
        "      score=icer.find(\"span\",class_=\"metascore favorable\").text\n",
        "    elif icer.find(\"span\",class_=\"metascore mixed\") is not None: \n",
        "      score=icer.find(\"span\",class_=\"metascore mixed\").text    \n",
        "    metascore.append(int(score))\n",
        "    #OY\n",
        "    oy=int(icer.find(\"span\",attrs={'name':'nv'})[\"data-value\"])\n",
        "    oylar.append(oy)\n",
        "#Elde ettiğimiz verileri DataFrame olarak kaydediyoruz.\n",
        "df=pd.DataFrame({\"film\":isimler,\n",
        "                \"yıl\":yıllar,\n",
        "                \"imdb\":imdbs,\n",
        "                \"metascore\":metascore,\n",
        "                \"oylar\":oylar})\n",
        "df.head(6)"
      ],
      "execution_count": 24,
      "outputs": [
        {
          "output_type": "execute_result",
          "data": {
            "text/html": [
              "<div>\n",
              "<style scoped>\n",
              "    .dataframe tbody tr th:only-of-type {\n",
              "        vertical-align: middle;\n",
              "    }\n",
              "\n",
              "    .dataframe tbody tr th {\n",
              "        vertical-align: top;\n",
              "    }\n",
              "\n",
              "    .dataframe thead th {\n",
              "        text-align: right;\n",
              "    }\n",
              "</style>\n",
              "<table border=\"1\" class=\"dataframe\">\n",
              "  <thead>\n",
              "    <tr style=\"text-align: right;\">\n",
              "      <th></th>\n",
              "      <th>film</th>\n",
              "      <th>yıl</th>\n",
              "      <th>imdb</th>\n",
              "      <th>metascore</th>\n",
              "      <th>oylar</th>\n",
              "    </tr>\n",
              "  </thead>\n",
              "  <tbody>\n",
              "    <tr>\n",
              "      <th>0</th>\n",
              "      <td>Logan</td>\n",
              "      <td>(2017)</td>\n",
              "      <td>8.1</td>\n",
              "      <td>77</td>\n",
              "      <td>559637</td>\n",
              "    </tr>\n",
              "    <tr>\n",
              "      <th>1</th>\n",
              "      <td>Wonder Woman</td>\n",
              "      <td>(2017)</td>\n",
              "      <td>7.5</td>\n",
              "      <td>76</td>\n",
              "      <td>487150</td>\n",
              "    </tr>\n",
              "    <tr>\n",
              "      <th>2</th>\n",
              "      <td>Guardians of the Galaxy Vol. 2</td>\n",
              "      <td>(2017)</td>\n",
              "      <td>7.7</td>\n",
              "      <td>67</td>\n",
              "      <td>482283</td>\n",
              "    </tr>\n",
              "    <tr>\n",
              "      <th>3</th>\n",
              "      <td>Thor: Ragnarok</td>\n",
              "      <td>(2017)</td>\n",
              "      <td>7.9</td>\n",
              "      <td>74</td>\n",
              "      <td>482079</td>\n",
              "    </tr>\n",
              "    <tr>\n",
              "      <th>4</th>\n",
              "      <td>Dunkirk</td>\n",
              "      <td>(2017)</td>\n",
              "      <td>7.9</td>\n",
              "      <td>94</td>\n",
              "      <td>466124</td>\n",
              "    </tr>\n",
              "    <tr>\n",
              "      <th>5</th>\n",
              "      <td>Star Wars: Episode VIII - The Last Jedi</td>\n",
              "      <td>(2017)</td>\n",
              "      <td>7.1</td>\n",
              "      <td>85</td>\n",
              "      <td>462506</td>\n",
              "    </tr>\n",
              "  </tbody>\n",
              "</table>\n",
              "</div>"
            ],
            "text/plain": [
              "                                      film     yıl  imdb  metascore   oylar\n",
              "0                                    Logan  (2017)   8.1         77  559637\n",
              "1                             Wonder Woman  (2017)   7.5         76  487150\n",
              "2           Guardians of the Galaxy Vol. 2  (2017)   7.7         67  482283\n",
              "3                           Thor: Ragnarok  (2017)   7.9         74  482079\n",
              "4                                  Dunkirk  (2017)   7.9         94  466124\n",
              "5  Star Wars: Episode VIII - The Last Jedi  (2017)   7.1         85  462506"
            ]
          },
          "metadata": {
            "tags": []
          },
          "execution_count": 24
        }
      ]
    },
    {
      "cell_type": "markdown",
      "metadata": {
        "id": "TSVwM18NDRYo",
        "colab_type": "text"
      },
      "source": [
        "**Kaynak:** https://www.dataquest.io/blog/web-scraping-beautifulsoup/"
      ]
    }
  ]
}