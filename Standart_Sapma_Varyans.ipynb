{
  "nbformat": 4,
  "nbformat_minor": 0,
  "metadata": {
    "colab": {
      "name": "Standart Sapma - Varyans.ipynb",
      "version": "0.3.2",
      "provenance": [],
      "collapsed_sections": []
    },
    "kernelspec": {
      "name": "python3",
      "display_name": "Python 3"
    }
  },
  "cells": [
    {
      "cell_type": "markdown",
      "metadata": {
        "id": "Vo8gSS9iNgB2",
        "colab_type": "text"
      },
      "source": [
        "# Numpy Kullanmadan;"
      ]
    },
    {
      "cell_type": "markdown",
      "metadata": {
        "id": "y18MWVI__RfJ",
        "colab_type": "text"
      },
      "source": [
        "## **Ortalama Bulma**\n",
        "\n",
        "![alt text](https://encrypted-tbn0.gstatic.com/images?q=tbn:ANd9GcT3i04TYPRj6wJW578vyZlgrokD3lOLgzkN0I4IjqWv7zLxrg9V)"
      ]
    },
    {
      "cell_type": "code",
      "metadata": {
        "id": "CtAp3M3S0BTC",
        "colab_type": "code",
        "colab": {}
      },
      "source": [
        "veri=[0, 2, 1, 1, 1, 3, 7, 7, 10]"
      ],
      "execution_count": 0,
      "outputs": []
    },
    {
      "cell_type": "code",
      "metadata": {
        "id": "e88hr89j0f5C",
        "colab_type": "code",
        "colab": {
          "base_uri": "https://localhost:8080/",
          "height": 34
        },
        "outputId": "44788d2f-85f1-438f-9631-12eb99c28313"
      },
      "source": [
        "#Ortalama Tüm verilerin toplamının veri sayısına bölümü.\n",
        "x=0 #Verilerin Toplamı\n",
        "n=len(veri) #Veri sayısı=7\n",
        "for adım in veri:\n",
        "  x+=adım\n",
        "X_=x/n #Aritmetik Ortalama\n",
        "print(\"Ortalama:\",X_)"
      ],
      "execution_count": 106,
      "outputs": [
        {
          "output_type": "stream",
          "text": [
            "Ortalama: 3.5555555555555554\n"
          ],
          "name": "stdout"
        }
      ]
    },
    {
      "cell_type": "markdown",
      "metadata": {
        "id": "ccasJ0OzRccp",
        "colab_type": "text"
      },
      "source": [
        "## **Medyan(Ortanca) Bulma**\n",
        "\n",
        "![alt text](https://yalinanaliz.com/wp-content/uploads/2018/09/Ortanca2-1-1024x313.png)"
      ]
    },
    {
      "cell_type": "code",
      "metadata": {
        "id": "mmsc0cSNOvLs",
        "colab_type": "code",
        "outputId": "44e78d54-2fbf-4741-a553-b11f3d13e1c2",
        "colab": {
          "base_uri": "https://localhost:8080/",
          "height": 51
        }
      },
      "source": [
        "veri.sort() #Medyan bulmak için sıraya sokuyoruz.\n",
        "print(veri)\n",
        "if len(veri)%2!=0:\n",
        "  print(\"Medyan:\",veri[len(veri)//2])\n",
        "else:\n",
        "  print(\"Medyan\",(veri[len(veri)//2]+veri[len(veri)//2-1])/2)"
      ],
      "execution_count": 0,
      "outputs": [
        {
          "output_type": "stream",
          "text": [
            "[0, 1, 1, 1, 2, 3, 7, 7, 10]\n",
            "Medyan: 2\n"
          ],
          "name": "stdout"
        }
      ]
    },
    {
      "cell_type": "markdown",
      "metadata": {
        "id": "tVr_t23HATjc",
        "colab_type": "text"
      },
      "source": [
        "## **Varyans ve Standart Sapma**\n",
        "\n",
        "\n",
        "![alt text](http://statisticslectures.com/images/samplevarstd.gif)"
      ]
    },
    {
      "cell_type": "code",
      "metadata": {
        "id": "gLUTRRA-1DIy",
        "colab_type": "code",
        "colab": {
          "base_uri": "https://localhost:8080/",
          "height": 34
        },
        "outputId": "d6798557-fea9-4685-bc32-45de34fb2284"
      },
      "source": [
        "deger=0\n",
        "for x_i in veri:\n",
        "  deger+=(x_i-X_)**2\n",
        "Varyans=deger/(n-1)\n",
        "print(\"Varyans:\",Varyans)"
      ],
      "execution_count": 114,
      "outputs": [
        {
          "output_type": "stream",
          "text": [
            "Varyans: 12.527777777777779\n"
          ],
          "name": "stdout"
        }
      ]
    },
    {
      "cell_type": "markdown",
      "metadata": {
        "id": "hLaDOtHhLCXm",
        "colab_type": "text"
      },
      "source": [
        "**Standart Sapma Veri Değerlerimizin Dağılımını Özetler. Verinin grafiğini çıkardığımızda grafiğin daha yaygın olup olmamasıda standart sapmanın etkisidir.**\n",
        "\n",
        "![alt text](http://mustafaakca.com/wp-content/uploads/2014/12/standartsapma-normaldagilim.png)"
      ]
    },
    {
      "cell_type": "code",
      "metadata": {
        "id": "lkhvW04IHOha",
        "colab_type": "code",
        "colab": {
          "base_uri": "https://localhost:8080/",
          "height": 34
        },
        "outputId": "06945adc-d230-4ce2-e95e-cac36d402d54"
      },
      "source": [
        "import math\n",
        "Standart=math.sqrt(Varyans)\n",
        "print(\"Standart Sapma:\",Standart)"
      ],
      "execution_count": 72,
      "outputs": [
        {
          "output_type": "stream",
          "text": [
            "Standart Sapma: 3.5394600969325505\n"
          ],
          "name": "stdout"
        }
      ]
    },
    {
      "cell_type": "markdown",
      "metadata": {
        "id": "ZPzZ7aQnNa27",
        "colab_type": "text"
      },
      "source": [
        "# **Numpy İle Hesaplama**"
      ]
    },
    {
      "cell_type": "markdown",
      "metadata": {
        "id": "GUUV0lFsR8tQ",
        "colab_type": "text"
      },
      "source": [
        "## **Ortalama Bulma**"
      ]
    },
    {
      "cell_type": "code",
      "metadata": {
        "id": "3CR4MoReLtWp",
        "colab_type": "code",
        "colab": {}
      },
      "source": [
        "import numpy as np\n",
        "veri=[0, 2, 1, 1, 1, 3, 7, 7, 10]"
      ],
      "execution_count": 0,
      "outputs": []
    },
    {
      "cell_type": "code",
      "metadata": {
        "id": "2OZjuMloSBqQ",
        "colab_type": "code",
        "colab": {
          "base_uri": "https://localhost:8080/",
          "height": 34
        },
        "outputId": "e57db4c5-f4de-4556-ce0b-7aa92063575f"
      },
      "source": [
        "Ortalama=np.mean(veri)\n",
        "print(\"Ortalama:\",Ortalama)"
      ],
      "execution_count": 127,
      "outputs": [
        {
          "output_type": "stream",
          "text": [
            "Ortalama: 3.5555555555555554\n"
          ],
          "name": "stdout"
        }
      ]
    },
    {
      "cell_type": "markdown",
      "metadata": {
        "id": "n3vH6AKZSbk9",
        "colab_type": "text"
      },
      "source": [
        "##Medyan Bulma"
      ]
    },
    {
      "cell_type": "code",
      "metadata": {
        "id": "xFg9UFqFSG4m",
        "colab_type": "code",
        "colab": {
          "base_uri": "https://localhost:8080/",
          "height": 34
        },
        "outputId": "15fd8289-c298-46aa-bdd6-d7f1cd013bf6"
      },
      "source": [
        "Medyan=np.median(veri)\n",
        "print(\"Medyan:\",Medyan)"
      ],
      "execution_count": 125,
      "outputs": [
        {
          "output_type": "stream",
          "text": [
            "Medyan: 2.0\n"
          ],
          "name": "stdout"
        }
      ]
    },
    {
      "cell_type": "markdown",
      "metadata": {
        "id": "cSvSKCDXSnN9",
        "colab_type": "text"
      },
      "source": [
        "##Varyans ve Standart Sapma"
      ]
    },
    {
      "cell_type": "code",
      "metadata": {
        "id": "Qgq-cM-KSebF",
        "colab_type": "code",
        "colab": {
          "base_uri": "https://localhost:8080/",
          "height": 51
        },
        "outputId": "63f61e4a-d676-4380-a7e5-1fbc730cec94"
      },
      "source": [
        "varyans=np.var(veri)\n",
        "standart=np.std(veri)\n",
        "print(\"Varyans\",varyans)\n",
        "print(\"Standart Sapma:\",standart)"
      ],
      "execution_count": 122,
      "outputs": [
        {
          "output_type": "stream",
          "text": [
            "Varyans 11.135802469135804\n",
            "Standart Sapma: 3.337034981706935\n"
          ],
          "name": "stdout"
        }
      ]
    },
    {
      "cell_type": "markdown",
      "metadata": {
        "id": "ka6AA1MdTavi",
        "colab_type": "text"
      },
      "source": [
        "**BURDA BİZİM FORMÜLLERE GÖRE HESAPLADIĞIMIZ VE NUMPY İLE HESAPLADIĞIMIZ DEĞERLER FARKLI ÇIKIYOR. NUMPY AŞAĞIDAKİ FORMÜLÜ KULLANDIĞI İÇİN SONUÇLAR FARKLI ÇIKTI.**"
      ]
    },
    {
      "cell_type": "markdown",
      "metadata": {
        "id": "t84dycjRTLAM",
        "colab_type": "text"
      },
      "source": [
        "![alt text](http://www.mmsrn.com/wp-content/uploads/2018/01/standart-sapma-nasil-hesaplanir.png)"
      ]
    }
  ]
}